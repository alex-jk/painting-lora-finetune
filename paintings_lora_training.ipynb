{
  "nbformat": 4,
  "nbformat_minor": 0,
  "metadata": {
    "colab": {
      "provenance": [],
      "gpuType": "T4",
      "authorship_tag": "ABX9TyNK16zTLrMWG1hMM419Wsim",
      "include_colab_link": true
    },
    "kernelspec": {
      "name": "python3",
      "display_name": "Python 3"
    },
    "language_info": {
      "name": "python"
    },
    "accelerator": "GPU",
    "widgets": {
      "application/vnd.jupyter.widget-state+json": {
        "25dd056e09b9438695fd1babcadf3192": {
          "model_module": "@jupyter-widgets/controls",
          "model_name": "HBoxModel",
          "model_module_version": "1.5.0",
          "state": {
            "_dom_classes": [],
            "_model_module": "@jupyter-widgets/controls",
            "_model_module_version": "1.5.0",
            "_model_name": "HBoxModel",
            "_view_count": null,
            "_view_module": "@jupyter-widgets/controls",
            "_view_module_version": "1.5.0",
            "_view_name": "HBoxView",
            "box_style": "",
            "children": [
              "IPY_MODEL_1ce269cd12fa4c7485a1ba0138bb76e8",
              "IPY_MODEL_34563428b8964abe9587491820f2097a",
              "IPY_MODEL_fdb426f57a6649b3be7c58ab16b50e4f"
            ],
            "layout": "IPY_MODEL_fd7dbcf9714b40498542053d0d9a8528"
          }
        },
        "1ce269cd12fa4c7485a1ba0138bb76e8": {
          "model_module": "@jupyter-widgets/controls",
          "model_name": "HTMLModel",
          "model_module_version": "1.5.0",
          "state": {
            "_dom_classes": [],
            "_model_module": "@jupyter-widgets/controls",
            "_model_module_version": "1.5.0",
            "_model_name": "HTMLModel",
            "_view_count": null,
            "_view_module": "@jupyter-widgets/controls",
            "_view_module_version": "1.5.0",
            "_view_name": "HTMLView",
            "description": "",
            "description_tooltip": null,
            "layout": "IPY_MODEL_52d6bc98b07046fd8fc860c4ee6c8d84",
            "placeholder": "​",
            "style": "IPY_MODEL_890c11b3d1b34bd996d08177fc93138f",
            "value": "Loading pipeline components...: 100%"
          }
        },
        "34563428b8964abe9587491820f2097a": {
          "model_module": "@jupyter-widgets/controls",
          "model_name": "FloatProgressModel",
          "model_module_version": "1.5.0",
          "state": {
            "_dom_classes": [],
            "_model_module": "@jupyter-widgets/controls",
            "_model_module_version": "1.5.0",
            "_model_name": "FloatProgressModel",
            "_view_count": null,
            "_view_module": "@jupyter-widgets/controls",
            "_view_module_version": "1.5.0",
            "_view_name": "ProgressView",
            "bar_style": "success",
            "description": "",
            "description_tooltip": null,
            "layout": "IPY_MODEL_52d8c3fc401d46b3880287da4da818b3",
            "max": 6,
            "min": 0,
            "orientation": "horizontal",
            "style": "IPY_MODEL_1c2c507662d84688a45644bc252b9039",
            "value": 6
          }
        },
        "fdb426f57a6649b3be7c58ab16b50e4f": {
          "model_module": "@jupyter-widgets/controls",
          "model_name": "HTMLModel",
          "model_module_version": "1.5.0",
          "state": {
            "_dom_classes": [],
            "_model_module": "@jupyter-widgets/controls",
            "_model_module_version": "1.5.0",
            "_model_name": "HTMLModel",
            "_view_count": null,
            "_view_module": "@jupyter-widgets/controls",
            "_view_module_version": "1.5.0",
            "_view_name": "HTMLView",
            "description": "",
            "description_tooltip": null,
            "layout": "IPY_MODEL_e146c77095254b9fa0c3214218488232",
            "placeholder": "​",
            "style": "IPY_MODEL_f881ffe0ec834c1abafb7e8abbece7ca",
            "value": " 6/6 [00:14&lt;00:00,  2.83s/it]"
          }
        },
        "fd7dbcf9714b40498542053d0d9a8528": {
          "model_module": "@jupyter-widgets/base",
          "model_name": "LayoutModel",
          "model_module_version": "1.2.0",
          "state": {
            "_model_module": "@jupyter-widgets/base",
            "_model_module_version": "1.2.0",
            "_model_name": "LayoutModel",
            "_view_count": null,
            "_view_module": "@jupyter-widgets/base",
            "_view_module_version": "1.2.0",
            "_view_name": "LayoutView",
            "align_content": null,
            "align_items": null,
            "align_self": null,
            "border": null,
            "bottom": null,
            "display": null,
            "flex": null,
            "flex_flow": null,
            "grid_area": null,
            "grid_auto_columns": null,
            "grid_auto_flow": null,
            "grid_auto_rows": null,
            "grid_column": null,
            "grid_gap": null,
            "grid_row": null,
            "grid_template_areas": null,
            "grid_template_columns": null,
            "grid_template_rows": null,
            "height": null,
            "justify_content": null,
            "justify_items": null,
            "left": null,
            "margin": null,
            "max_height": null,
            "max_width": null,
            "min_height": null,
            "min_width": null,
            "object_fit": null,
            "object_position": null,
            "order": null,
            "overflow": null,
            "overflow_x": null,
            "overflow_y": null,
            "padding": null,
            "right": null,
            "top": null,
            "visibility": null,
            "width": null
          }
        },
        "52d6bc98b07046fd8fc860c4ee6c8d84": {
          "model_module": "@jupyter-widgets/base",
          "model_name": "LayoutModel",
          "model_module_version": "1.2.0",
          "state": {
            "_model_module": "@jupyter-widgets/base",
            "_model_module_version": "1.2.0",
            "_model_name": "LayoutModel",
            "_view_count": null,
            "_view_module": "@jupyter-widgets/base",
            "_view_module_version": "1.2.0",
            "_view_name": "LayoutView",
            "align_content": null,
            "align_items": null,
            "align_self": null,
            "border": null,
            "bottom": null,
            "display": null,
            "flex": null,
            "flex_flow": null,
            "grid_area": null,
            "grid_auto_columns": null,
            "grid_auto_flow": null,
            "grid_auto_rows": null,
            "grid_column": null,
            "grid_gap": null,
            "grid_row": null,
            "grid_template_areas": null,
            "grid_template_columns": null,
            "grid_template_rows": null,
            "height": null,
            "justify_content": null,
            "justify_items": null,
            "left": null,
            "margin": null,
            "max_height": null,
            "max_width": null,
            "min_height": null,
            "min_width": null,
            "object_fit": null,
            "object_position": null,
            "order": null,
            "overflow": null,
            "overflow_x": null,
            "overflow_y": null,
            "padding": null,
            "right": null,
            "top": null,
            "visibility": null,
            "width": null
          }
        },
        "890c11b3d1b34bd996d08177fc93138f": {
          "model_module": "@jupyter-widgets/controls",
          "model_name": "DescriptionStyleModel",
          "model_module_version": "1.5.0",
          "state": {
            "_model_module": "@jupyter-widgets/controls",
            "_model_module_version": "1.5.0",
            "_model_name": "DescriptionStyleModel",
            "_view_count": null,
            "_view_module": "@jupyter-widgets/base",
            "_view_module_version": "1.2.0",
            "_view_name": "StyleView",
            "description_width": ""
          }
        },
        "52d8c3fc401d46b3880287da4da818b3": {
          "model_module": "@jupyter-widgets/base",
          "model_name": "LayoutModel",
          "model_module_version": "1.2.0",
          "state": {
            "_model_module": "@jupyter-widgets/base",
            "_model_module_version": "1.2.0",
            "_model_name": "LayoutModel",
            "_view_count": null,
            "_view_module": "@jupyter-widgets/base",
            "_view_module_version": "1.2.0",
            "_view_name": "LayoutView",
            "align_content": null,
            "align_items": null,
            "align_self": null,
            "border": null,
            "bottom": null,
            "display": null,
            "flex": null,
            "flex_flow": null,
            "grid_area": null,
            "grid_auto_columns": null,
            "grid_auto_flow": null,
            "grid_auto_rows": null,
            "grid_column": null,
            "grid_gap": null,
            "grid_row": null,
            "grid_template_areas": null,
            "grid_template_columns": null,
            "grid_template_rows": null,
            "height": null,
            "justify_content": null,
            "justify_items": null,
            "left": null,
            "margin": null,
            "max_height": null,
            "max_width": null,
            "min_height": null,
            "min_width": null,
            "object_fit": null,
            "object_position": null,
            "order": null,
            "overflow": null,
            "overflow_x": null,
            "overflow_y": null,
            "padding": null,
            "right": null,
            "top": null,
            "visibility": null,
            "width": null
          }
        },
        "1c2c507662d84688a45644bc252b9039": {
          "model_module": "@jupyter-widgets/controls",
          "model_name": "ProgressStyleModel",
          "model_module_version": "1.5.0",
          "state": {
            "_model_module": "@jupyter-widgets/controls",
            "_model_module_version": "1.5.0",
            "_model_name": "ProgressStyleModel",
            "_view_count": null,
            "_view_module": "@jupyter-widgets/base",
            "_view_module_version": "1.2.0",
            "_view_name": "StyleView",
            "bar_color": null,
            "description_width": ""
          }
        },
        "e146c77095254b9fa0c3214218488232": {
          "model_module": "@jupyter-widgets/base",
          "model_name": "LayoutModel",
          "model_module_version": "1.2.0",
          "state": {
            "_model_module": "@jupyter-widgets/base",
            "_model_module_version": "1.2.0",
            "_model_name": "LayoutModel",
            "_view_count": null,
            "_view_module": "@jupyter-widgets/base",
            "_view_module_version": "1.2.0",
            "_view_name": "LayoutView",
            "align_content": null,
            "align_items": null,
            "align_self": null,
            "border": null,
            "bottom": null,
            "display": null,
            "flex": null,
            "flex_flow": null,
            "grid_area": null,
            "grid_auto_columns": null,
            "grid_auto_flow": null,
            "grid_auto_rows": null,
            "grid_column": null,
            "grid_gap": null,
            "grid_row": null,
            "grid_template_areas": null,
            "grid_template_columns": null,
            "grid_template_rows": null,
            "height": null,
            "justify_content": null,
            "justify_items": null,
            "left": null,
            "margin": null,
            "max_height": null,
            "max_width": null,
            "min_height": null,
            "min_width": null,
            "object_fit": null,
            "object_position": null,
            "order": null,
            "overflow": null,
            "overflow_x": null,
            "overflow_y": null,
            "padding": null,
            "right": null,
            "top": null,
            "visibility": null,
            "width": null
          }
        },
        "f881ffe0ec834c1abafb7e8abbece7ca": {
          "model_module": "@jupyter-widgets/controls",
          "model_name": "DescriptionStyleModel",
          "model_module_version": "1.5.0",
          "state": {
            "_model_module": "@jupyter-widgets/controls",
            "_model_module_version": "1.5.0",
            "_model_name": "DescriptionStyleModel",
            "_view_count": null,
            "_view_module": "@jupyter-widgets/base",
            "_view_module_version": "1.2.0",
            "_view_name": "StyleView",
            "description_width": ""
          }
        }
      }
    }
  },
  "cells": [
    {
      "cell_type": "markdown",
      "metadata": {
        "id": "view-in-github",
        "colab_type": "text"
      },
      "source": [
        "<a href=\"https://colab.research.google.com/github/alex-jk/painting-lora-finetune/blob/main/paintings_lora_training.ipynb\" target=\"_parent\"><img src=\"https://colab.research.google.com/assets/colab-badge.svg\" alt=\"Open In Colab\"/></a>"
      ]
    },
    {
      "cell_type": "code",
      "execution_count": 1,
      "metadata": {
        "id": "J8ajJ7_uIKOr",
        "outputId": "67a03ae1-e9c0-4341-e65c-fe8f4e47459b",
        "colab": {
          "base_uri": "https://localhost:8080/"
        }
      },
      "outputs": [
        {
          "output_type": "stream",
          "name": "stdout",
          "text": [
            "--2025-04-07 18:08:04--  https://raw.githubusercontent.com/alex-jk/painting-lora-finetune/main/data/paintings.zip\n",
            "Resolving raw.githubusercontent.com (raw.githubusercontent.com)... 185.199.108.133, 185.199.109.133, 185.199.110.133, ...\n",
            "Connecting to raw.githubusercontent.com (raw.githubusercontent.com)|185.199.108.133|:443... connected.\n",
            "HTTP request sent, awaiting response... 200 OK\n",
            "Length: 7164316 (6.8M) [application/zip]\n",
            "Saving to: ‘paintings.zip’\n",
            "\n",
            "\rpaintings.zip         0%[                    ]       0  --.-KB/s               \rpaintings.zip       100%[===================>]   6.83M  --.-KB/s    in 0.08s   \n",
            "\n",
            "2025-04-07 18:08:04 (90.4 MB/s) - ‘paintings.zip’ saved [7164316/7164316]\n",
            "\n",
            "Archive:  paintings.zip\n",
            "  inflating: paintings/paintings/17030-islands-on-kabenung-40x60-brigitte-granton_orig.jpeg  \n",
            "  inflating: paintings/paintings/23060-Setting-in-a-Grand-Way-Grand-Lake-30X60_-3240.jpeg  \n",
            "  inflating: paintings/paintings/24055-Sunswept-Opeongo-40x48_-oil-Algonquin-G-539x443.jpeg  \n",
            "  inflating: paintings/paintings/30yl2012ivanhoethechute600.jpg  \n",
            "  inflating: paintings/paintings/4bc1b40a29aa1ea4f1bb86bb1177a578.jpg  \n",
            "  inflating: paintings/paintings/bierstadt_albert_lake_tahoe_california_1863.jpg  \n",
            "  inflating: paintings/paintings/converted_image.jpg  \n",
            "  inflating: paintings/paintings/converted_image_2.jpg  \n",
            "  inflating: paintings/paintings/converted_image_3.jpg  \n",
            "  inflating: paintings/paintings/DSC_1060.JPG  \n",
            "  inflating: paintings/paintings/Flowing-800x588.jpg  \n",
            "  inflating: paintings/paintings/ga0445-garth-armstrong-36x48-oil-on-canvas-uf-1030x773.jpg  \n",
            "  inflating: paintings/paintings/geG4QZcDv2.jpg  \n",
            "  inflating: paintings/paintings/GXSgpwOWoAMS35k.jpg  \n",
            "  inflating: paintings/paintings/H0077-L67207199.jpg  \n",
            "  inflating: paintings/paintings/Ivan-Shishkin-Mast-Tree-Grove-1898.jpg  \n",
            "  inflating: paintings/paintings/john-barrie-rennie-boyd-bay-muskoka-2.jpg  \n",
            "  inflating: paintings/paintings/k.-rempel-rushing-river.jpeg  \n",
            "  inflating: paintings/paintings/Little-Waterfall-Algonquin-2422-x-1822-Soft-Pastel.jpg  \n",
            "  inflating: paintings/paintings/maribelli_shallows_36x60.jpg  \n",
            "  inflating: paintings/paintings/Melissa-Jean-Strawberry-island.jpg.jpeg  \n",
            "  inflating: paintings/paintings/Muskoka++2022+web+size.jpg  \n",
            "  inflating: paintings/paintings/swiftwater-nancy-jolley.jpg  \n",
            "  inflating: paintings/paintings/the-evening-hour-jake-vandenbrink.jpg  \n",
            "  inflating: paintings/paintings/unnamed.jpg  \n"
          ]
        }
      ],
      "source": [
        "!wget https://raw.githubusercontent.com/alex-jk/painting-lora-finetune/main/data/paintings.zip -O paintings.zip\n",
        "!unzip -o paintings.zip -d paintings/"
      ]
    },
    {
      "cell_type": "code",
      "source": [
        "!pip install xformers"
      ],
      "metadata": {
        "id": "-MFiOoblY8C7",
        "outputId": "5c5b894d-2f95-4bcd-8431-c89f225977a6",
        "colab": {
          "base_uri": "https://localhost:8080/"
        }
      },
      "execution_count": 2,
      "outputs": [
        {
          "output_type": "stream",
          "name": "stdout",
          "text": [
            "Requirement already satisfied: xformers in /usr/local/lib/python3.11/dist-packages (0.0.29.post3)\n",
            "Requirement already satisfied: numpy in /usr/local/lib/python3.11/dist-packages (from xformers) (2.0.2)\n",
            "Requirement already satisfied: torch==2.6.0 in /usr/local/lib/python3.11/dist-packages (from xformers) (2.6.0+cu124)\n",
            "Requirement already satisfied: filelock in /usr/local/lib/python3.11/dist-packages (from torch==2.6.0->xformers) (3.18.0)\n",
            "Requirement already satisfied: typing-extensions>=4.10.0 in /usr/local/lib/python3.11/dist-packages (from torch==2.6.0->xformers) (4.13.1)\n",
            "Requirement already satisfied: networkx in /usr/local/lib/python3.11/dist-packages (from torch==2.6.0->xformers) (3.4.2)\n",
            "Requirement already satisfied: jinja2 in /usr/local/lib/python3.11/dist-packages (from torch==2.6.0->xformers) (3.1.6)\n",
            "Requirement already satisfied: fsspec in /usr/local/lib/python3.11/dist-packages (from torch==2.6.0->xformers) (2025.3.2)\n",
            "Requirement already satisfied: nvidia-cuda-nvrtc-cu12==12.4.127 in /usr/local/lib/python3.11/dist-packages (from torch==2.6.0->xformers) (12.4.127)\n",
            "Requirement already satisfied: nvidia-cuda-runtime-cu12==12.4.127 in /usr/local/lib/python3.11/dist-packages (from torch==2.6.0->xformers) (12.4.127)\n",
            "Requirement already satisfied: nvidia-cuda-cupti-cu12==12.4.127 in /usr/local/lib/python3.11/dist-packages (from torch==2.6.0->xformers) (12.4.127)\n",
            "Requirement already satisfied: nvidia-cudnn-cu12==9.1.0.70 in /usr/local/lib/python3.11/dist-packages (from torch==2.6.0->xformers) (9.1.0.70)\n",
            "Requirement already satisfied: nvidia-cublas-cu12==12.4.5.8 in /usr/local/lib/python3.11/dist-packages (from torch==2.6.0->xformers) (12.4.5.8)\n",
            "Requirement already satisfied: nvidia-cufft-cu12==11.2.1.3 in /usr/local/lib/python3.11/dist-packages (from torch==2.6.0->xformers) (11.2.1.3)\n",
            "Requirement already satisfied: nvidia-curand-cu12==10.3.5.147 in /usr/local/lib/python3.11/dist-packages (from torch==2.6.0->xformers) (10.3.5.147)\n",
            "Requirement already satisfied: nvidia-cusolver-cu12==11.6.1.9 in /usr/local/lib/python3.11/dist-packages (from torch==2.6.0->xformers) (11.6.1.9)\n",
            "Requirement already satisfied: nvidia-cusparse-cu12==12.3.1.170 in /usr/local/lib/python3.11/dist-packages (from torch==2.6.0->xformers) (12.3.1.170)\n",
            "Requirement already satisfied: nvidia-cusparselt-cu12==0.6.2 in /usr/local/lib/python3.11/dist-packages (from torch==2.6.0->xformers) (0.6.2)\n",
            "Requirement already satisfied: nvidia-nccl-cu12==2.21.5 in /usr/local/lib/python3.11/dist-packages (from torch==2.6.0->xformers) (2.21.5)\n",
            "Requirement already satisfied: nvidia-nvtx-cu12==12.4.127 in /usr/local/lib/python3.11/dist-packages (from torch==2.6.0->xformers) (12.4.127)\n",
            "Requirement already satisfied: nvidia-nvjitlink-cu12==12.4.127 in /usr/local/lib/python3.11/dist-packages (from torch==2.6.0->xformers) (12.4.127)\n",
            "Requirement already satisfied: triton==3.2.0 in /usr/local/lib/python3.11/dist-packages (from torch==2.6.0->xformers) (3.2.0)\n",
            "Requirement already satisfied: sympy==1.13.1 in /usr/local/lib/python3.11/dist-packages (from torch==2.6.0->xformers) (1.13.1)\n",
            "Requirement already satisfied: mpmath<1.4,>=1.1.0 in /usr/local/lib/python3.11/dist-packages (from sympy==1.13.1->torch==2.6.0->xformers) (1.3.0)\n",
            "Requirement already satisfied: MarkupSafe>=2.0 in /usr/local/lib/python3.11/dist-packages (from jinja2->torch==2.6.0->xformers) (3.0.2)\n"
          ]
        }
      ]
    },
    {
      "cell_type": "code",
      "source": [
        "!pip uninstall -y diffusers\n",
        "!pip install git+https://github.com/huggingface/diffusers.git"
      ],
      "metadata": {
        "id": "xd84aCQ6b20G",
        "outputId": "7e3bfffc-04bc-45e5-8150-b7c8b77c1c68",
        "colab": {
          "base_uri": "https://localhost:8080/"
        }
      },
      "execution_count": 3,
      "outputs": [
        {
          "output_type": "stream",
          "name": "stdout",
          "text": [
            "Found existing installation: diffusers 0.33.0.dev0\n",
            "Uninstalling diffusers-0.33.0.dev0:\n",
            "  Successfully uninstalled diffusers-0.33.0.dev0\n",
            "Collecting git+https://github.com/huggingface/diffusers.git\n",
            "  Cloning https://github.com/huggingface/diffusers.git to /tmp/pip-req-build-w2jd499q\n",
            "  Running command git clone --filter=blob:none --quiet https://github.com/huggingface/diffusers.git /tmp/pip-req-build-w2jd499q\n",
            "  Resolved https://github.com/huggingface/diffusers.git to commit 506f39af3a7b533209cc96f1732fff347070bdbd\n",
            "  Installing build dependencies ... \u001b[?25l\u001b[?25hdone\n",
            "  Getting requirements to build wheel ... \u001b[?25l\u001b[?25hdone\n",
            "  Preparing metadata (pyproject.toml) ... \u001b[?25l\u001b[?25hdone\n",
            "Requirement already satisfied: importlib_metadata in /usr/local/lib/python3.11/dist-packages (from diffusers==0.33.0.dev0) (8.6.1)\n",
            "Requirement already satisfied: filelock in /usr/local/lib/python3.11/dist-packages (from diffusers==0.33.0.dev0) (3.18.0)\n",
            "Requirement already satisfied: huggingface-hub>=0.27.0 in /usr/local/lib/python3.11/dist-packages (from diffusers==0.33.0.dev0) (0.30.1)\n",
            "Requirement already satisfied: numpy in /usr/local/lib/python3.11/dist-packages (from diffusers==0.33.0.dev0) (2.0.2)\n",
            "Requirement already satisfied: regex!=2019.12.17 in /usr/local/lib/python3.11/dist-packages (from diffusers==0.33.0.dev0) (2024.11.6)\n",
            "Requirement already satisfied: requests in /usr/local/lib/python3.11/dist-packages (from diffusers==0.33.0.dev0) (2.32.3)\n",
            "Requirement already satisfied: safetensors>=0.3.1 in /usr/local/lib/python3.11/dist-packages (from diffusers==0.33.0.dev0) (0.5.3)\n",
            "Requirement already satisfied: Pillow in /usr/local/lib/python3.11/dist-packages (from diffusers==0.33.0.dev0) (11.1.0)\n",
            "Requirement already satisfied: fsspec>=2023.5.0 in /usr/local/lib/python3.11/dist-packages (from huggingface-hub>=0.27.0->diffusers==0.33.0.dev0) (2025.3.2)\n",
            "Requirement already satisfied: packaging>=20.9 in /usr/local/lib/python3.11/dist-packages (from huggingface-hub>=0.27.0->diffusers==0.33.0.dev0) (24.2)\n",
            "Requirement already satisfied: pyyaml>=5.1 in /usr/local/lib/python3.11/dist-packages (from huggingface-hub>=0.27.0->diffusers==0.33.0.dev0) (6.0.2)\n",
            "Requirement already satisfied: tqdm>=4.42.1 in /usr/local/lib/python3.11/dist-packages (from huggingface-hub>=0.27.0->diffusers==0.33.0.dev0) (4.67.1)\n",
            "Requirement already satisfied: typing-extensions>=3.7.4.3 in /usr/local/lib/python3.11/dist-packages (from huggingface-hub>=0.27.0->diffusers==0.33.0.dev0) (4.13.1)\n",
            "Requirement already satisfied: zipp>=3.20 in /usr/local/lib/python3.11/dist-packages (from importlib_metadata->diffusers==0.33.0.dev0) (3.21.0)\n",
            "Requirement already satisfied: charset-normalizer<4,>=2 in /usr/local/lib/python3.11/dist-packages (from requests->diffusers==0.33.0.dev0) (3.4.1)\n",
            "Requirement already satisfied: idna<4,>=2.5 in /usr/local/lib/python3.11/dist-packages (from requests->diffusers==0.33.0.dev0) (3.10)\n",
            "Requirement already satisfied: urllib3<3,>=1.21.1 in /usr/local/lib/python3.11/dist-packages (from requests->diffusers==0.33.0.dev0) (2.3.0)\n",
            "Requirement already satisfied: certifi>=2017.4.17 in /usr/local/lib/python3.11/dist-packages (from requests->diffusers==0.33.0.dev0) (2025.1.31)\n",
            "Building wheels for collected packages: diffusers\n",
            "  Building wheel for diffusers (pyproject.toml) ... \u001b[?25l\u001b[?25hdone\n",
            "  Created wheel for diffusers: filename=diffusers-0.33.0.dev0-py3-none-any.whl size=3544299 sha256=812f819c19d601719ce2d855911b580dd265f49e142109b187c0c10e66431610\n",
            "  Stored in directory: /tmp/pip-ephem-wheel-cache-j4dt26fv/wheels/d2/5c/5f/16639722ea17ecb73ab461b81718584bac08af2801619786b9\n",
            "Successfully built diffusers\n",
            "Installing collected packages: diffusers\n",
            "Successfully installed diffusers-0.33.0.dev0\n"
          ]
        }
      ]
    },
    {
      "cell_type": "code",
      "source": [
        "import diffusers\n",
        "print(diffusers.__version__)\n",
        "\n",
        "from diffusers import StableDiffusionPipeline, UNet2DConditionModel\n",
        "import torch"
      ],
      "metadata": {
        "id": "U1CHBIRbJPoY",
        "outputId": "1961f2cb-9f53-4c4b-ab54-f3e13e188fc1",
        "colab": {
          "base_uri": "https://localhost:8080/"
        }
      },
      "execution_count": 8,
      "outputs": [
        {
          "output_type": "stream",
          "name": "stdout",
          "text": [
            "0.33.0.dev0\n"
          ]
        }
      ]
    },
    {
      "cell_type": "code",
      "source": [
        "# Load pipeline\n",
        "pipe = StableDiffusionPipeline.from_pretrained(\n",
        "    \"runwayml/stable-diffusion-v1-5\",\n",
        "    torch_dtype=torch.float16,\n",
        "    safety_checker=None\n",
        ").to(\"cuda\")"
      ],
      "metadata": {
        "id": "uZyzErOcPcTE",
        "outputId": "b03a4a58-9271-4391-8abe-a3a51ccf3642",
        "colab": {
          "base_uri": "https://localhost:8080/",
          "height": 191,
          "referenced_widgets": [
            "25dd056e09b9438695fd1babcadf3192",
            "1ce269cd12fa4c7485a1ba0138bb76e8",
            "34563428b8964abe9587491820f2097a",
            "fdb426f57a6649b3be7c58ab16b50e4f",
            "fd7dbcf9714b40498542053d0d9a8528",
            "52d6bc98b07046fd8fc860c4ee6c8d84",
            "890c11b3d1b34bd996d08177fc93138f",
            "52d8c3fc401d46b3880287da4da818b3",
            "1c2c507662d84688a45644bc252b9039",
            "e146c77095254b9fa0c3214218488232",
            "f881ffe0ec834c1abafb7e8abbece7ca"
          ]
        }
      },
      "execution_count": 5,
      "outputs": [
        {
          "output_type": "stream",
          "name": "stderr",
          "text": [
            "/usr/local/lib/python3.11/dist-packages/huggingface_hub/utils/_auth.py:94: UserWarning: \n",
            "The secret `HF_TOKEN` does not exist in your Colab secrets.\n",
            "To authenticate with the Hugging Face Hub, create a token in your settings tab (https://huggingface.co/settings/tokens), set it as secret in your Google Colab and restart your session.\n",
            "You will be able to reuse this secret in all of your notebooks.\n",
            "Please note that authentication is recommended but still optional to access public models or datasets.\n",
            "  warnings.warn(\n"
          ]
        },
        {
          "output_type": "display_data",
          "data": {
            "text/plain": [
              "Loading pipeline components...:   0%|          | 0/6 [00:00<?, ?it/s]"
            ],
            "application/vnd.jupyter.widget-view+json": {
              "version_major": 2,
              "version_minor": 0,
              "model_id": "25dd056e09b9438695fd1babcadf3192"
            }
          },
          "metadata": {}
        },
        {
          "output_type": "stream",
          "name": "stderr",
          "text": [
            "You have disabled the safety checker for <class 'diffusers.pipelines.stable_diffusion.pipeline_stable_diffusion.StableDiffusionPipeline'> by passing `safety_checker=None`. Ensure that you abide to the conditions of the Stable Diffusion license and do not expose unfiltered results in services or applications open to the public. Both the diffusers team and Hugging Face strongly recommend to keep the safety filter enabled in all public facing circumstances, disabling it only for use-cases that involve analyzing network behavior or auditing its results. For more information, please have a look at https://github.com/huggingface/diffusers/pull/254 .\n"
          ]
        }
      ]
    },
    {
      "cell_type": "code",
      "source": [
        "# Enable LoRA training in the U-Net\n",
        "pipe.unet.enable_gradient_checkpointing()\n",
        "pipe.enable_xformers_memory_efficient_attention()"
      ],
      "metadata": {
        "id": "eQD4oAihPjAd"
      },
      "execution_count": 15,
      "outputs": []
    },
    {
      "cell_type": "code",
      "source": [
        "# Get a reference to the UNet model\n",
        "unet = pipe.unet\n",
        "print(\"UNet reference obtained.\")\n",
        "# --- End of your existing code + UNet Reference ---\n",
        "\n",
        "# --- NEXT STEP (Corrected LoraConfig) ---\n",
        "\n",
        "# 1. Import necessary classes from PEFT\n",
        "from peft import LoraConfig # TaskType is no longer needed here\n",
        "\n",
        "# 2. Define the LoRA configuration object\n",
        "#    Omitting task_type as it's not required for unet.add_adapter()\n",
        "#    and the previous enum value was incorrect.\n",
        "lora_config = LoraConfig(\n",
        "    r=4,\n",
        "    lora_alpha=4,\n",
        "    target_modules=[\"to_q\", \"to_k\", \"to_v\", \"to_out.0\"],\n",
        "    lora_dropout=0.05,\n",
        "    bias=\"none\",\n",
        "    # task_type=... # REMOVED - Not needed here and caused AttributeError\n",
        ")\n",
        "\n",
        "print(\"LoRA Config defined (without task_type).\")\n",
        "# --- End of NEXT STEP ---"
      ],
      "metadata": {
        "id": "boixaRjuRPOg",
        "outputId": "ed67b8d1-9a2c-422e-aeea-80d5598ad030",
        "colab": {
          "base_uri": "https://localhost:8080/"
        }
      },
      "execution_count": 17,
      "outputs": [
        {
          "output_type": "stream",
          "name": "stdout",
          "text": [
            "UNet reference obtained.\n",
            "LoRA Config defined (without task_type).\n"
          ]
        }
      ]
    },
    {
      "cell_type": "code",
      "source": [
        "# 3. Add the LoRA adapter to the UNet model using the defined config\n",
        "#    The 'adapter_name' is optional but good practice if you plan\n",
        "#    to manage multiple adapters later.\n",
        "adapter_name = \"my_style_lora\" # You can choose any descriptive name\n",
        "unet.add_adapter(lora_config, adapter_name=adapter_name)\n",
        "\n",
        "print(f\"LoRA adapter '{adapter_name}' added to the UNet.\")\n",
        "\n",
        "# Optional but recommended: Verify trainable parameters\n",
        "# This helps confirm that only the LoRA weights are set to be trained.\n",
        "trainable_params = 0\n",
        "all_param = 0\n",
        "for name, param in unet.named_parameters():\n",
        "    all_param += param.numel()\n",
        "    if param.requires_grad:\n",
        "        # Print trainable parameter names (optional, for debugging)\n",
        "        # print(f\"Trainable: {name}\")\n",
        "        trainable_params += param.numel()\n",
        "\n",
        "print(\n",
        "    f\"\\nTotal UNet params: {all_param:,}\\n\"\n",
        "    f\"Trainable params (LoRA): {trainable_params:,}\\n\"\n",
        "    f\"Trainable %: {100 * trainable_params / all_param:.4f}%\"\n",
        ")"
      ],
      "metadata": {
        "id": "nmDzG9ddd3q2",
        "outputId": "43ce38e6-9c6e-47ff-b320-93025c0e4aee",
        "colab": {
          "base_uri": "https://localhost:8080/"
        }
      },
      "execution_count": 18,
      "outputs": [
        {
          "output_type": "stream",
          "name": "stdout",
          "text": [
            "LoRA adapter 'my_style_lora' added to the UNet.\n",
            "\n",
            "Total UNet params: 860,318,148\n",
            "Trainable params (LoRA): 797,184\n",
            "Trainable %: 0.0927%\n"
          ]
        }
      ]
    },
    {
      "cell_type": "code",
      "source": [
        "import torch.optim as optim\n",
        "\n",
        "# 4. Set up the Optimizer\n",
        "#    Filter the UNet's parameters to get only those that require gradients (the LoRA parameters).\n",
        "lora_params_to_optimize = [p for p in unet.parameters() if p.requires_grad]\n",
        "print(f\"Number of parameter groups to optimize: {len(lora_params_to_optimize)}\")\n",
        "\n",
        "# Define common hyperparameters for the optimizer\n",
        "learning_rate = 1e-4 # A common starting LR for LoRA training\n",
        "adam_beta1 = 0.9\n",
        "adam_beta2 = 0.999\n",
        "adam_weight_decay = 1e-2\n",
        "adam_epsilon = 1e-08\n",
        "\n",
        "# Create the AdamW optimizer, passing only the LoRA parameters\n",
        "optimizer = optim.AdamW(\n",
        "    lora_params_to_optimize,\n",
        "    lr=learning_rate,\n",
        "    betas=(adam_beta1, adam_beta2),\n",
        "    weight_decay=adam_weight_decay,\n",
        "    eps=adam_epsilon,\n",
        ")\n",
        "\n",
        "print(f\"Optimizer AdamW created with learning rate {learning_rate}.\")"
      ],
      "metadata": {
        "id": "HpDwjTA9eEcj",
        "outputId": "6812a111-e4da-4549-9bc7-7d78dd571994",
        "colab": {
          "base_uri": "https://localhost:8080/"
        }
      },
      "execution_count": 20,
      "outputs": [
        {
          "output_type": "stream",
          "name": "stdout",
          "text": [
            "Number of parameter groups to optimize: 256\n",
            "Optimizer AdamW created with learning rate 0.0001.\n"
          ]
        }
      ]
    }
  ]
}