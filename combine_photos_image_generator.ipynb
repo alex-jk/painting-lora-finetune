{
  "nbformat": 4,
  "nbformat_minor": 0,
  "metadata": {
    "colab": {
      "provenance": [],
      "authorship_tag": "ABX9TyNXSYi1JQ7Z4KIhvezirPuG",
      "include_colab_link": true
    },
    "kernelspec": {
      "name": "python3",
      "display_name": "Python 3"
    },
    "language_info": {
      "name": "python"
    }
  },
  "cells": [
    {
      "cell_type": "markdown",
      "metadata": {
        "id": "view-in-github",
        "colab_type": "text"
      },
      "source": [
        "<a href=\"https://colab.research.google.com/github/alex-jk/painting-lora-finetune/blob/main/combine_photos_image_generator.ipynb\" target=\"_parent\"><img src=\"https://colab.research.google.com/assets/colab-badge.svg\" alt=\"Open In Colab\"/></a>"
      ]
    },
    {
      "cell_type": "markdown",
      "source": [
        "**Combine photos and generate new similar image**"
      ],
      "metadata": {
        "id": "BrFYt4DAAWwX"
      }
    },
    {
      "cell_type": "markdown",
      "source": [
        "### What this code does\n",
        "\n",
        "We create a **new image** that represents the common look of several input photos.\n",
        "Instead of averaging pixels (which fails when shots are different), we average\n",
        "**deep features** extracted by a fixed, pretrained CNN (**VGG19**).\n",
        "\n",
        "- **VGG19**: a convolutional neural network trained on ImageNet. We **don’t train it**;\n",
        "  we only use it as a feature extractor (its internal activations capture textures,\n",
        "  shapes, and layout cues).\n",
        "\n",
        "- **How it works**:\n",
        "  1) Load your photos and pass them through VGG19 to grab activations at a few layers.\n",
        "  2) Compute the **centroid (mean)** of those activations across your photos.\n",
        "  3) Initialize a blank-ish image and **optimize its pixels** so that, when passed\n",
        "     through VGG19, its activations match that centroid.\n",
        "  4) A small **total-variation (TV)** term keeps the result smooth/clean.\n",
        "\n",
        "- **Why VGG**: Its intermediate layers form a robust, hand-crafted “perceptual space”\n",
        "  learned from millions of images—good for capturing what’s *shared* across different\n",
        "  viewpoints/plates without needing to train any new model.\n",
        "\"\"\""
      ],
      "metadata": {
        "id": "fNpmJQnhFJt7"
      }
    },
    {
      "cell_type": "markdown",
      "source": [
        "First - import images that will be used to generate a new, similar, image"
      ],
      "metadata": {
        "id": "p2ZBuHMPFV-U"
      }
    },
    {
      "cell_type": "code",
      "execution_count": 1,
      "metadata": {
        "id": "KriENzCBALlV",
        "colab": {
          "base_uri": "https://localhost:8080/",
          "height": 177
        },
        "outputId": "9affeccd-3f49-4aaa-d7dd-ba1d404187d2"
      },
      "outputs": [
        {
          "output_type": "display_data",
          "data": {
            "text/plain": [
              "<IPython.core.display.HTML object>"
            ],
            "text/html": [
              "\n",
              "     <input type=\"file\" id=\"files-00d71662-63ad-4141-9872-407974e0f0e2\" name=\"files[]\" multiple disabled\n",
              "        style=\"border:none\" />\n",
              "     <output id=\"result-00d71662-63ad-4141-9872-407974e0f0e2\">\n",
              "      Upload widget is only available when the cell has been executed in the\n",
              "      current browser session. Please rerun this cell to enable.\n",
              "      </output>\n",
              "      <script>// Copyright 2017 Google LLC\n",
              "//\n",
              "// Licensed under the Apache License, Version 2.0 (the \"License\");\n",
              "// you may not use this file except in compliance with the License.\n",
              "// You may obtain a copy of the License at\n",
              "//\n",
              "//      http://www.apache.org/licenses/LICENSE-2.0\n",
              "//\n",
              "// Unless required by applicable law or agreed to in writing, software\n",
              "// distributed under the License is distributed on an \"AS IS\" BASIS,\n",
              "// WITHOUT WARRANTIES OR CONDITIONS OF ANY KIND, either express or implied.\n",
              "// See the License for the specific language governing permissions and\n",
              "// limitations under the License.\n",
              "\n",
              "/**\n",
              " * @fileoverview Helpers for google.colab Python module.\n",
              " */\n",
              "(function(scope) {\n",
              "function span(text, styleAttributes = {}) {\n",
              "  const element = document.createElement('span');\n",
              "  element.textContent = text;\n",
              "  for (const key of Object.keys(styleAttributes)) {\n",
              "    element.style[key] = styleAttributes[key];\n",
              "  }\n",
              "  return element;\n",
              "}\n",
              "\n",
              "// Max number of bytes which will be uploaded at a time.\n",
              "const MAX_PAYLOAD_SIZE = 100 * 1024;\n",
              "\n",
              "function _uploadFiles(inputId, outputId) {\n",
              "  const steps = uploadFilesStep(inputId, outputId);\n",
              "  const outputElement = document.getElementById(outputId);\n",
              "  // Cache steps on the outputElement to make it available for the next call\n",
              "  // to uploadFilesContinue from Python.\n",
              "  outputElement.steps = steps;\n",
              "\n",
              "  return _uploadFilesContinue(outputId);\n",
              "}\n",
              "\n",
              "// This is roughly an async generator (not supported in the browser yet),\n",
              "// where there are multiple asynchronous steps and the Python side is going\n",
              "// to poll for completion of each step.\n",
              "// This uses a Promise to block the python side on completion of each step,\n",
              "// then passes the result of the previous step as the input to the next step.\n",
              "function _uploadFilesContinue(outputId) {\n",
              "  const outputElement = document.getElementById(outputId);\n",
              "  const steps = outputElement.steps;\n",
              "\n",
              "  const next = steps.next(outputElement.lastPromiseValue);\n",
              "  return Promise.resolve(next.value.promise).then((value) => {\n",
              "    // Cache the last promise value to make it available to the next\n",
              "    // step of the generator.\n",
              "    outputElement.lastPromiseValue = value;\n",
              "    return next.value.response;\n",
              "  });\n",
              "}\n",
              "\n",
              "/**\n",
              " * Generator function which is called between each async step of the upload\n",
              " * process.\n",
              " * @param {string} inputId Element ID of the input file picker element.\n",
              " * @param {string} outputId Element ID of the output display.\n",
              " * @return {!Iterable<!Object>} Iterable of next steps.\n",
              " */\n",
              "function* uploadFilesStep(inputId, outputId) {\n",
              "  const inputElement = document.getElementById(inputId);\n",
              "  inputElement.disabled = false;\n",
              "\n",
              "  const outputElement = document.getElementById(outputId);\n",
              "  outputElement.innerHTML = '';\n",
              "\n",
              "  const pickedPromise = new Promise((resolve) => {\n",
              "    inputElement.addEventListener('change', (e) => {\n",
              "      resolve(e.target.files);\n",
              "    });\n",
              "  });\n",
              "\n",
              "  const cancel = document.createElement('button');\n",
              "  inputElement.parentElement.appendChild(cancel);\n",
              "  cancel.textContent = 'Cancel upload';\n",
              "  const cancelPromise = new Promise((resolve) => {\n",
              "    cancel.onclick = () => {\n",
              "      resolve(null);\n",
              "    };\n",
              "  });\n",
              "\n",
              "  // Wait for the user to pick the files.\n",
              "  const files = yield {\n",
              "    promise: Promise.race([pickedPromise, cancelPromise]),\n",
              "    response: {\n",
              "      action: 'starting',\n",
              "    }\n",
              "  };\n",
              "\n",
              "  cancel.remove();\n",
              "\n",
              "  // Disable the input element since further picks are not allowed.\n",
              "  inputElement.disabled = true;\n",
              "\n",
              "  if (!files) {\n",
              "    return {\n",
              "      response: {\n",
              "        action: 'complete',\n",
              "      }\n",
              "    };\n",
              "  }\n",
              "\n",
              "  for (const file of files) {\n",
              "    const li = document.createElement('li');\n",
              "    li.append(span(file.name, {fontWeight: 'bold'}));\n",
              "    li.append(span(\n",
              "        `(${file.type || 'n/a'}) - ${file.size} bytes, ` +\n",
              "        `last modified: ${\n",
              "            file.lastModifiedDate ? file.lastModifiedDate.toLocaleDateString() :\n",
              "                                    'n/a'} - `));\n",
              "    const percent = span('0% done');\n",
              "    li.appendChild(percent);\n",
              "\n",
              "    outputElement.appendChild(li);\n",
              "\n",
              "    const fileDataPromise = new Promise((resolve) => {\n",
              "      const reader = new FileReader();\n",
              "      reader.onload = (e) => {\n",
              "        resolve(e.target.result);\n",
              "      };\n",
              "      reader.readAsArrayBuffer(file);\n",
              "    });\n",
              "    // Wait for the data to be ready.\n",
              "    let fileData = yield {\n",
              "      promise: fileDataPromise,\n",
              "      response: {\n",
              "        action: 'continue',\n",
              "      }\n",
              "    };\n",
              "\n",
              "    // Use a chunked sending to avoid message size limits. See b/62115660.\n",
              "    let position = 0;\n",
              "    do {\n",
              "      const length = Math.min(fileData.byteLength - position, MAX_PAYLOAD_SIZE);\n",
              "      const chunk = new Uint8Array(fileData, position, length);\n",
              "      position += length;\n",
              "\n",
              "      const base64 = btoa(String.fromCharCode.apply(null, chunk));\n",
              "      yield {\n",
              "        response: {\n",
              "          action: 'append',\n",
              "          file: file.name,\n",
              "          data: base64,\n",
              "        },\n",
              "      };\n",
              "\n",
              "      let percentDone = fileData.byteLength === 0 ?\n",
              "          100 :\n",
              "          Math.round((position / fileData.byteLength) * 100);\n",
              "      percent.textContent = `${percentDone}% done`;\n",
              "\n",
              "    } while (position < fileData.byteLength);\n",
              "  }\n",
              "\n",
              "  // All done.\n",
              "  yield {\n",
              "    response: {\n",
              "      action: 'complete',\n",
              "    }\n",
              "  };\n",
              "}\n",
              "\n",
              "scope.google = scope.google || {};\n",
              "scope.google.colab = scope.google.colab || {};\n",
              "scope.google.colab._files = {\n",
              "  _uploadFiles,\n",
              "  _uploadFilesContinue,\n",
              "};\n",
              "})(self);\n",
              "</script> "
            ]
          },
          "metadata": {}
        },
        {
          "output_type": "stream",
          "name": "stdout",
          "text": [
            "Saving 3d1d3b01f2b975f7315e32d67df547e5.jpg to 3d1d3b01f2b975f7315e32d67df547e5.jpg\n",
            "Saving 66f8f9.jpg to 66f8f9.jpg\n",
            "Saving grechnevaya_kasha_v_multivarke_na_moloke-560590.jpg to grechnevaya_kasha_v_multivarke_na_moloke-560590.jpg\n",
            "Saving grechnevaya-kasha-s-molokom-_1290017009_0.jpg to grechnevaya-kasha-s-molokom-_1290017009_0.jpg\n"
          ]
        }
      ],
      "source": [
        "# 0) Upload your images (4–8 works well)\n",
        "from google.colab import files\n",
        "uploads = files.upload()\n",
        "image_paths = list(uploads.keys())"
      ]
    },
    {
      "cell_type": "code",
      "source": [
        "# 1) Install PyTorch + torchvision (CPU wheels are fine in Colab; will use GPU if available)\n",
        "!pip -q install torch torchvision --index-url https://download.pytorch.org/whl/cpu"
      ],
      "metadata": {
        "id": "gjUrzldAhKEq"
      },
      "execution_count": 2,
      "outputs": []
    },
    {
      "cell_type": "code",
      "source": [
        "# 2) Imports & helpers\n",
        "import torch, torch.nn as nn, torch.optim as optim\n",
        "from torchvision import models, transforms as T\n",
        "from PIL import Image, ImageOps\n",
        "import numpy as np\n",
        "\n",
        "device = torch.device('cuda' if torch.cuda.is_available() else 'cpu')"
      ],
      "metadata": {
        "id": "DL1qs2IuhQNa"
      },
      "execution_count": 3,
      "outputs": []
    },
    {
      "cell_type": "markdown",
      "source": [
        "#### Config (what each knob does)\n",
        "\n",
        "- TARGET_SIZE: Output resolution (pixels). Bigger = sharper but slower.\n",
        "- NUM_STEPS: Optimization iterations. More = more detail/refinement.\n",
        "- LR: Learning rate for pixel updates. Lower if results jitter; higher to converge faster.\n",
        "- TV_WEIGHT: Smoothness strength (total variation). Raise for cleaner/smoother look; lower for sharper/edgier detail.\n",
        "\n",
        "**FEATURE_LAYERS (VGG19 indices)**\n",
        "- 8  (relu2_2): color/texture cues\n",
        "- 15 (relu3_3): mid-level structure\n",
        "- 22 (relu4_2): higher-level shapes/layout\n",
        "Adjust the weights to bias the result (e.g., more weight on 22 → stronger structure).\n",
        "\n",
        "**VGG_MEAN / VGG_STD**\n",
        "ImageNet normalization used by VGG. We normalize as (img − mean) / std\n",
        "before extracting features so activations are comparable across images.\n",
        "\"\"\""
      ],
      "metadata": {
        "id": "5RTdGwkQK788"
      }
    },
    {
      "cell_type": "code",
      "source": [
        "# --- Config you can tweak ---\n",
        "TARGET_SIZE = 512          # 384–640 is a good range (bigger = slower, sharper)\n",
        "NUM_STEPS   = 400          # 300–800 typical\n",
        "LR          = 0.08\n",
        "TV_WEIGHT   = 2e-6         # smoothness regularizer; raise for smoother, lower for crisper\n",
        "\n",
        "# Feature layers to match (VGG19 feature indices):\n",
        "# 8 = relu2_2, 15 = relu3_3, 22 = relu4_2  (good default mix)\n",
        "FEATURE_LAYERS = {8: 1.0, 15: 1.0, 22: 1.0}\n",
        "\n",
        "# VGG normalization stats\n",
        "VGG_MEAN = torch.tensor([0.485, 0.456, 0.406]).view(1,3,1,1).to(device)\n",
        "VGG_STD  = torch.tensor([0.229, 0.224, 0.225]).view(1,3,1,1).to(device)"
      ],
      "metadata": {
        "id": "UR9D-fGcE0Gm"
      },
      "execution_count": null,
      "outputs": []
    }
  ]
}