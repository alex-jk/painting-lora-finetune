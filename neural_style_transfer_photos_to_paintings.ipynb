{
  "nbformat": 4,
  "nbformat_minor": 0,
  "metadata": {
    "colab": {
      "provenance": [],
      "gpuType": "T4",
      "authorship_tag": "ABX9TyM8yd9wgi2JBEyYeRIwu1ZS",
      "include_colab_link": true
    },
    "kernelspec": {
      "name": "python3",
      "display_name": "Python 3"
    },
    "language_info": {
      "name": "python"
    },
    "accelerator": "GPU"
  },
  "cells": [
    {
      "cell_type": "markdown",
      "metadata": {
        "id": "view-in-github",
        "colab_type": "text"
      },
      "source": [
        "<a href=\"https://colab.research.google.com/github/alex-jk/painting-lora-finetune/blob/main/neural_style_transfer_photos_to_paintings.ipynb\" target=\"_parent\"><img src=\"https://colab.research.google.com/assets/colab-badge.svg\" alt=\"Open In Colab\"/></a>"
      ]
    },
    {
      "cell_type": "code",
      "source": [
        "# set before importing torch; then Runtime -> Restart runtime\n",
        "%env PYTORCH_CUDA_ALLOC_CONF=expandable_segments:True"
      ],
      "metadata": {
        "colab": {
          "base_uri": "https://localhost:8080/"
        },
        "id": "a6RMrjh2DzZJ",
        "outputId": "50c88d2d-3bc8-4f3b-f419-cf5c42b05ee0"
      },
      "execution_count": 1,
      "outputs": [
        {
          "output_type": "stream",
          "name": "stdout",
          "text": [
            "env: PYTORCH_CUDA_ALLOC_CONF=expandable_segments:True\n"
          ]
        }
      ]
    },
    {
      "cell_type": "markdown",
      "source": [
        "<h3><font color=\"#0b3d91\">Neural Style Transfer Method</font></h3>\n",
        "\n",
        "**Goal**\n",
        "\n",
        "Turn your photo into a painting-like image without moving objects: keep the photo’s layout, borrow the painting’s colors/texture.\n",
        "\n",
        "**How it works (high level)**<br>\n",
        "We create an output image `X` and optimize its pixels so that:<br>\n",
        "• its **deep features** (from a CNN) match the photo → preserves structure/content;<br>\n",
        "• its **feature statistics** (Gram matrices) match the painting → transfers style/brushwork.\n",
        "\n",
        "**VGG-19**<br>\n",
        "**VGG-19** is a classic **convolutional neural network (CNN)** trained on `ImageNet`. It stacks many conv layers that detect edges, textures, parts, and objects.<br>\n",
        "• **Shallow layers** respond to color/texture; **deep layers** to object/layout.<br>\n",
        "• Freeze VGG (no training) and use it only to extract features that act as \"perceptual rulers.\"<br>\n",
        "• To preserve the photo's content, we match its core VGG features. To inject the painting's style, we match its Gram stats, which are a statistical measurement of which textures and patterns (like certain brushstrokes and colors) tend to appear together throughout the image.\n",
        "\n",
        "<h3><font color=\"#0b3d91\">How the neural style transfer model is trained (fast/feed-forward version)</font></h3>\n",
        "\n",
        "**Notation**\n",
        "- `f_phi`: trainable **stylizer** `CNN` (the only network you update)\n",
        "- `VGG`: frozen **loss network** (used only to compute losses)\n",
        "- `C`: content image, `S`: style image\n",
        "- `X = f_phi(C)`: stylized output\n",
        "\n",
        "**Training loop**\n",
        "1. **Freeze VGG.** Use it only to extract features for the losses (no weight updates).\n",
        "2. **Choose a style** image `S` (or sample from a style set).\n",
        "3. **For each content image `C`:**\n",
        "    - **Forward Pass:** We feed the content photo `C` through our trainable stylizer CNN `f_phi` to produce a candidate image `X`. This network is the one we are actively training, and its output is our `stylized guess`, which we will immediately use to measure how well we are matching our style and content goals.\n",
        "    - **Extract features (with frozen VGG):** get feature maps `F_l(C)`, `F_l(X)`, and `F_l(S)` from selected layers `l`.\n",
        "    - **Content loss:** This is the penalty for changing the photo's core content. We compute it by taking the feature representations of our stylized image `F_l(X)` and the original photo `F_l(C)` from a deeper VGG layer and calculating the squared Euclidean distance (or Mean Squared Error) between them. A smaller distance means the main objects in our guess still look like the original.\n",
        "    - **Style loss:** make **Gram matrices** of `X` match those of `S` across chosen layers (captures texture/brushwork).\n",
        "    - **Total Variation loss (optional):** This is a penalty added to make the final image smoother and less noisy. The actual penalty is the `Total Variation` of the image `X`, which is calculated by summing the differences between each pixel and its immediate neighbors, both horizontally and vertically. A high value means the image has a lot of sharp, disconnected pixel noise, and minimizing it creates more gradual transitions.\n",
        "    - **Total loss:** `L = lambda_c * L_content + lambda_s * L_style + lambda_tv * L_tv`.\n",
        "    - **Backprop:** send gradients through VGG into `f_phi` (VGG stays frozen) and **update only `phi`** (e.g., Adam). *(During training, only change the weights of the stylizer network (f_phi). Do not change the weights of the VGG loss network.)*\n",
        "4. **Repeat** over batches until validation loss plateaus. The trained `f_phi` then stylizes any new `C` in a single forward pass.\n",
        "\n",
        "> **Alternative (optimization-based NST):** don’t learn `f_phi`. Initialize `X` (e.g., `X <- C`) and **optimize the pixels of `X`** directly to minimize the same losses with VGG frozen.\n",
        "\n",
        "\n",
        "**Pipeline**<br>\n",
        "Load & normalize images → run through frozen `VGG` → compute `content loss` (deep layer), `style loss` (Gram matrices across several layers), plus `total variation (TV) smoothing` → then, in an optimization loop, backprop gradients to the image pixels with L-BFGS/Adam. This process is repeated for hundreds of steps, progressively modifying the image to find the pixels that result in the `lowest possible total loss score`.<br>\n",
        "\n",
        "**Total Variation (TV) smoothing** - A regularizer that penalizes rapid pixel-to-pixel changes. It prefers images that are locally smooth (piecewise-smooth) without simply blurring everything."
      ],
      "metadata": {
        "id": "-0NeC4NdFWWw"
      }
    },
    {
      "cell_type": "markdown",
      "source": [
        "<h3><font color=\"#0b3d91\">Gram matrices (style loss)</font></h3>\n",
        "\n",
        "**Setup (for one VGG layer `l`)**\n",
        "\n",
        "To transfer an artistic style, we need a way to measure 'style' itself. A simple feature match isn't enough, because we don't want to copy the objects from the style painting, just its texture and feel. Gram matrices are the solution. They are a mathematical tool that describes an image's style by ignoring object placement and instead capturing which visual patterns (like colors and brushstrokes) tend to appear together. By forcing our new image to have the same Gram matrix as the style painting, we force it to adopt the same artistic signature.\n",
        "\n",
        "- **Get Feature Maps from an Image:**\n",
        "First, we need to extract visual features from an image. Let's take our current version of the output image `X` as the example. We feed it through a specific layer `l` of the `VGG network`.\n",
        "The output, `F_l(X)`, is a set of \"feature maps\": This is a 3D block of data with shape `[C, H, W]`, representing what the VGG layer \"sees\" in our generated image.\n",
        "- **Flatten the Feature Maps:**\n",
        "The next step is to prepare this 3D block of data for the style calculation by collapsing its spatial dimensions `the height H and width W`. We reshape the feature maps `F_l(X)` into a new 2D matrix, `F`.\n",
        "  - This `F` matrix now has a shape of `[C, H*W]`. Each of the `C` rows represents a different feature channel, and the columns represent all the pixel locations. This transformation is essential because it organizes the data so we can easily measure the relationships between the different feature channels, which is the key to capturing style.\n",
        "- **Gram matrix (per layer):**\n",
        "  - Start with features `F_l(X)` of shape `[C, H, W]`.\n",
        "  - Flatten spatial dims → `F` has shape `[C, N]`, where `N = H * W`.\n",
        "  - Indices: `i, j ∈ {1..C}` are **channel indices**; `p ∈ {1..N}` is the **pixel (spatial) index** after flattening.\n",
        "  - Define the `[C, C]` matrix `G` by  \n",
        "    `G[i, j] = (1/N) * sum_{p=1..N} F[i, p] * F[j, p]`.\n",
        "  - This is the **average product across all spatial positions** of channels `i` and `j`.  \n",
        "    Averaging over `p` removes location and keeps **co-activation (texture) statistics**.\n",
        "\n",
        "**Intuition**\n",
        "- Entry `G[i, j]` is the dot product between channel `i` and `j` across all pixels → how strongly they **co-activate**.\n",
        "- Averaging over locations discards exact positions, so Gram matrices capture **texture/brushwork statistics** (which features occur together), not layout.\n",
        "- Matching `G_l(X)` to `G_l(S)` makes `X` use the same color/texture patterns as the style image at that layer’s scale.\n",
        "\n",
        "**Why multiple layers?**\n",
        "- Shallow layers → fine textures/colors; deeper layers → broader patterns.\n",
        "- Summing style losses over several layers gives a **multi-scale** style match.\n",
        "\n",
        "**Style loss formula**\n",
        "\n",
        "The core of the style loss is a direct comparison between two Gram matrices at each VGG layer `l`:\n",
        "  - One matrix, `G_l(S)`, is computed from the original style painting `S`. This is our fixed target; it represents the \"correct\" artistic style for that layer.\n",
        "  - The other matrix, `G_l(X)`, is computed from our current generated image `X`. This represents the style of our work-in-progress.\n",
        "\n",
        "The goal is to change our generated image `X` until its Gram matrix `G_l(X)` becomes as close as possible to the target `G_l(S)`.\n",
        "- Per layer: `L_style_l = || G_l(X) - G_l(S) ||_F^2`\n",
        "- Total style loss: weighted sum over chosen layers.\n",
        "- Normalize by `H*W` (or `C*H*W`) to keep values scale-stable."
      ],
      "metadata": {
        "id": "LnNbZSB3Br4P"
      }
    },
    {
      "cell_type": "markdown",
      "source": [
        "**Install dependencies**"
      ],
      "metadata": {
        "id": "JkuuncyXyG4D"
      }
    },
    {
      "cell_type": "code",
      "execution_count": 2,
      "metadata": {
        "id": "6LSFUnVPsgd9",
        "colab": {
          "base_uri": "https://localhost:8080/"
        },
        "outputId": "43c4bdcf-99c3-43ac-f13b-d3f4d772c3ae"
      },
      "outputs": [
        {
          "output_type": "stream",
          "name": "stdout",
          "text": [
            "Torch: 2.8.0+cu126 | Vision: 0.23.0+cu126\n",
            "CUDA available: True\n"
          ]
        }
      ],
      "source": [
        "import torch, torchvision, PIL\n",
        "print(\"Torch:\", torch.__version__, \"| Vision:\", torchvision.__version__)\n",
        "print(\"CUDA available:\", torch.cuda.is_available())"
      ]
    },
    {
      "cell_type": "code",
      "source": [
        "import math\n",
        "import numpy as np\n",
        "from pathlib import Path\n",
        "import torch\n",
        "import torch.nn as nn\n",
        "import torch.nn.functional as F\n",
        "from torchvision import models, transforms\n",
        "from PIL import Image\n",
        "\n",
        "import os\n",
        "import zipfile, re, urllib.request"
      ],
      "metadata": {
        "id": "WSqes22jy00u"
      },
      "execution_count": 3,
      "outputs": []
    },
    {
      "cell_type": "markdown",
      "source": [
        "#### **Set device and ImageNet normalization (for VGG-19 features)**\n",
        "\n",
        "- **Device selection:** Use GPU (`cuda`) if available; otherwise fall back to CPU. All tensors/ops must be on the **same device**.\n",
        "- **ImageNet normalization:** VGG-19 expects RGB inputs scaled to **[0,1]** and normalized per channel with:\n",
        "  - mean = `[0.485, 0.456, 0.406]`\n",
        "  - std  = `[0.229, 0.224, 0.225]`\n",
        "<br>We apply it as: `(x - mean) / std` (broadcast per channel over H×W).\n",
        "- **Why:** Feeding the exact normalization used in training keeps VGG feature distributions correct; skipping it can cause unstable optimization or odd colors.\n",
        "- **`.to(device)` on mean/std:** Puts these constants on the same device as your images to avoid device-mismatch errors."
      ],
      "metadata": {
        "id": "8OG7pKx2zG8o"
      }
    },
    {
      "cell_type": "code",
      "source": [
        "device = torch.device(\"cuda\" if torch.cuda.is_available() else \"cpu\")\n",
        "IMAGENET_MEAN = torch.tensor([0.485, 0.456, 0.406]).to(device)\n",
        "IMAGENET_STD  = torch.tensor([0.229, 0.224, 0.225]).to(device)"
      ],
      "metadata": {
        "id": "8Alx0zfjy47k"
      },
      "execution_count": 4,
      "outputs": []
    },
    {
      "cell_type": "markdown",
      "source": [
        "###**NST Code**"
      ],
      "metadata": {
        "id": "VzSsDDVTywXj"
      }
    },
    {
      "cell_type": "markdown",
      "source": [
        "#### Image I/O helpers\n",
        "\n",
        "**`load_image(path, target_long_side=None)`**\n",
        "- **Force RGB (3 channels):** keeps shape consistent for VGG / PyTorch.\n",
        "- **Optional shrink (keep aspect ratio):** if `target_long_side` is set, scale the image so its **longer side = target_long_side**.  \n",
        "  *Why:* fewer pixels ⇒ faster, uses less memory. (Halving width & height ≈ **4× fewer pixels**.)\n",
        "- **High-quality resize (`Image.LANCZOS`):** when you shrink, many pixels are merged. A good filter **averages smartly** so diagonals don’t look like **stair-steps (“jaggies”)** and fine textures don’t turn into **wavy stripes**. Cleaner inputs ⇒ cleaner VGG features.\n",
        "- **To tensor in `[0,1]`:** `transforms.ToTensor()` gives a float tensor **(3, H, W)** scaled to `[0,1]`.\n",
        "- **Add batch dim:** `unsqueeze(0)` → **(1, 3, H, W)** because models expect a batch.\n",
        "- **Send to device:** `.to(device)` moves it to CPU or GPU.\n",
        "\n",
        "**`save_image(tensor, path)`**\n",
        "- **Stop tracking gradients:** `detach()` — we’re just saving numbers now.\n",
        "- **Keep valid range:** `clamp(0,1)` so colors aren’t out of bounds.\n",
        "- **Back to CPU & drop batch:** `cpu().squeeze(0)` → **(3, H, W)**.\n",
        "- **Write file:** `transforms.ToPILImage()(x).save(Path(path))`."
      ],
      "metadata": {
        "id": "dkidXX0v2GT1"
      }
    },
    {
      "cell_type": "code",
      "source": [
        "def load_image(path, target_long_side=None):\n",
        "    img = Image.open(path).convert(\"RGB\")\n",
        "    if target_long_side is not None:\n",
        "        w, h = img.size\n",
        "        scale = target_long_side / max(w, h)\n",
        "        img = img.resize((round(w*scale), round(h*scale)), Image.LANCZOS)\n",
        "    x = transforms.ToTensor()(img).unsqueeze(0).to(device)  # (1,3,H,W) in [0,1]\n",
        "    return x\n",
        "\n",
        "def save_image(tensor, path):\n",
        "    x = tensor.detach().clamp(0,1).cpu().squeeze(0)\n",
        "    transforms.ToPILImage()(x).save(Path(path))"
      ],
      "metadata": {
        "id": "jRGp7hskyxMP"
      },
      "execution_count": 5,
      "outputs": []
    },
    {
      "cell_type": "markdown",
      "source": [
        "#### Normalization module\n",
        "\n",
        "**What it does**\n",
        "- Takes an image batch `x` with shape **(N, 3, H, W)** in **[0,1]** and applies **per-channel** ImageNet normalization:  \n",
        "  `x_norm = (x − mean) / std`.\n",
        "- Stores `mean` and `std` as tensors shaped **(1, 3, 1, 1)** so they **broadcast** across batch and spatial dims (H×W).\n",
        "\n",
        "**Why we need it**\n",
        "- **VGG-19** was trained on ImageNet-normalized RGB. Feeding inputs in the same scale makes VGG features **comparable and stable** for style/content losses.\n",
        "- Using `register_buffer(...)` puts `mean/std` on the **right device**, includes them in the **state_dict**, and keeps them **non-trainable** (not updated by the optimizer).\n",
        "\n",
        "*Typical constants:* `mean = [0.485, 0.456, 0.406]`, `std = [0.229, 0.224, 0.225]`."
      ],
      "metadata": {
        "id": "xFfa0R0w30-v"
      }
    },
    {
      "cell_type": "code",
      "source": [
        "class Normalization(nn.Module):\n",
        "    def __init__(self, mean, std):\n",
        "        super().__init__()\n",
        "        self.register_buffer(\"mean\", mean.view(1,3,1,1))\n",
        "        self.register_buffer(\"std\",  std.view(1,3,1,1))\n",
        "    def forward(self, x): return (x - self.mean) / self.std"
      ],
      "metadata": {
        "id": "-3EUQpy81xTG"
      },
      "execution_count": 6,
      "outputs": []
    },
    {
      "cell_type": "markdown",
      "source": [
        "### VGG “taps” — which layers we read and why\n",
        "\n",
        "**What is a tap?**  \n",
        "A *tap* is a layer in VGG where we **read** the activation (feature map) during the forward pass. VGG is **frozen** (not trained). We only use the tapped layers in our losses; **all other layers are ignored**.\n",
        "\n",
        "**Are we using all layers?**  \n",
        "**No.** We select a small subset:\n",
        "- **Content taps** → preserve the photo’s layout/structure.\n",
        "- **Style taps** → capture texture/brush/color statistics at multiple scales.\n",
        "\n",
        "**Our choices**\n",
        "```python\n",
        "# human-readable names for vgg19.features indices\n",
        "VGG_LAYER_NAMES = {1:\"relu1_1\", 6:\"relu2_1\", 11:\"relu3_1\", 20:\"relu4_1\", 22:\"relu4_2\", 29:\"relu5_1\"}\n",
        "\n",
        "# use this deep layer to keep object/layout structure\n",
        "CONTENT_LAYERS = [\"relu4_2\"]\n",
        "\n",
        "# use these (shallow→deep) to capture style across scales\n",
        "STYLE_LAYERS   = [\"relu1_1\",\"relu2_1\",\"relu3_1\",\"relu4_1\",\"relu5_1\"]"
      ],
      "metadata": {
        "id": "Z9pPOe0ENHMT"
      }
    },
    {
      "cell_type": "code",
      "source": [
        "# VGG layer taps\n",
        "VGG_LAYER_NAMES = {1:\"relu1_1\", 6:\"relu2_1\", 11:\"relu3_1\", 20:\"relu4_1\", 22:\"relu4_2\", 29:\"relu5_1\"}\n",
        "CONTENT_LAYERS = [\"relu4_2\"]\n",
        "STYLE_LAYERS   = [\"relu1_1\",\"relu2_1\",\"relu3_1\",\"relu4_1\",\"relu5_1\"]"
      ],
      "metadata": {
        "id": "P_jDS4QFM86v"
      },
      "execution_count": 7,
      "outputs": []
    },
    {
      "cell_type": "markdown",
      "source": [
        "### `VGGFeatures` — frozen VGG wrapper that returns only the layers we care about\n",
        "\n",
        "**Goal:** In one forward pass, (1) normalize the input exactly like ImageNet and (2) collect activations at selected “tap” layers for our losses.\n",
        "\n",
        "**How it’s built (`__init__`):**\n",
        "- Load `vgg19.features` (try the new weights API; fall back to `pretrained=True`).\n",
        "- Call `eval()` and set `requires_grad_(False)` → VGG is **frozen** (we never train it).\n",
        "- Create `Normalization(mean, std)` so inputs are ImageNet-normalized before entering VGG.\n",
        "\n",
        "**What `forward(x)` does:**\n",
        "1. Normalize: `x ← (x − mean) / std`.\n",
        "2. Run through VGG **layer by layer**.\n",
        "3. If the current layer index is listed in `VGG_LAYER_NAMES`, **store that activation** under its readable name (e.g., `\"relu4_2\"`).\n",
        "4. Return a dict mapping names → activations (each `(N, C, H, W)`), e.g.:\n",
        "   `{\"relu1_1\": T1, \"relu2_1\": T2, \"relu3_1\": T3, \"relu4_1\": T4, \"relu4_2\": T5, \"relu5_1\": T6}`.\n",
        "\n",
        "**Why this design:**\n",
        "- We do **not** use all VGG layers. We tap a small subset:\n",
        "  - **Content loss:** compare `X` vs `C` at a deep tap (e.g., `\"relu4_2\"`).\n",
        "  - **Style loss:** compare Gram stats at several shallow→deep taps.\n",
        "- Freezing VGG + correct normalization → features are **stable and comparable**; only your stylizer (or pixels) is updated."
      ],
      "metadata": {
        "id": "cVj4TJ4JR4hs"
      }
    },
    {
      "cell_type": "code",
      "source": [
        "class VGGFeatures(nn.Module):\n",
        "    def __init__(self):\n",
        "        super().__init__()\n",
        "        # Compatibility with different torchvision versions\n",
        "        try:\n",
        "            feats = models.vgg19(weights=models.VGG19_Weights.IMAGENET1K_FEATURES).features\n",
        "        except Exception:\n",
        "            feats = models.vgg19(pretrained=True).features\n",
        "        self.vgg = feats.eval().to(device)\n",
        "        for p in self.vgg.parameters(): p.requires_grad_(False)\n",
        "        self.norm = Normalization(IMAGENET_MEAN, IMAGENET_STD)\n",
        "    def forward(self, x):\n",
        "        out = {}\n",
        "        x = self.norm(x)\n",
        "        for i, layer in enumerate(self.vgg):\n",
        "            x = layer(x)\n",
        "            if i in VGG_LAYER_NAMES:\n",
        "                out[VGG_LAYER_NAMES[i]] = x\n",
        "        return out"
      ],
      "metadata": {
        "id": "xgIG6IlrRoun"
      },
      "execution_count": 8,
      "outputs": []
    },
    {
      "cell_type": "markdown",
      "source": [
        "### Precompute content & style targets — what this code does\n",
        "\n",
        "1. **Load images** (`C`, `S`) at a manageable size → tensors `(1,3,H,W)` on the correct device.\n",
        "2. **Frozen VGG taps**: build `VGGFeatures()` (it normalizes to ImageNet and returns only the tapped layers).\n",
        "3. **Forward once**: run `C` and `S` through VGG → get dictionaries of tapped activations: `c_feats`, `s_feats`.\n",
        "4. **Content target(s)**: take the content image activations at `CONTENT_LAYERS` (e.g., `relu4_2`). These preserve layout/structure.\n",
        "5. **Style targets**: for each layer in `STYLE_LAYERS`, compute a **Gram matrix** from the style activations:\n",
        "   - reshape features to `(C, N)` where `C`=channels and `N=H*W`;\n",
        "   - build a `(C×C)` matrix of **average channel-wise products** → captures texture/color statistics while ignoring exact positions.\n",
        "   - **Why Gram matrices at multiple style layers?**  \n",
        "Style is about which features co-occur, not where. A Gram matrix captures channel co-activation (second-order stats) and ignores spatial layout, so matching `G_l(X)` to `G_l(S)` transfers texture/brushwork without copying positions. Using several layers (shallow→deep) covers multi-scale style; normalizing by `H×W` keeps losses comparable across sizes.\n",
        "\n",
        "6. **Sanity check**: print shapes of targets to confirm they were created.\n",
        "\n",
        "**Use next:** feed `content_targets` and `style_targets` into your loss:\n",
        "- (a) **Optimize pixels** `X` directly, or\n",
        "- (b) **Train a stylizer network** `f_ϕ` so that `X = f_ϕ(C)`."
      ],
      "metadata": {
        "id": "ufwmKt2IB3Vu"
      }
    },
    {
      "cell_type": "code",
      "source": [
        "from google.colab import drive\n",
        "drive.mount('/content/drive')\n",
        "\n",
        "CONTENT = \"/content/drive/MyDrive/nst/images/content.jpg\"\n",
        "STYLE   = \"/content/drive/MyDrive/nst/images/style.jpg\""
      ],
      "metadata": {
        "id": "EKhJ_w9PNFak",
        "colab": {
          "base_uri": "https://localhost:8080/"
        },
        "outputId": "2d7c1a94-ee7d-41d1-e4ad-5387fc72e39b"
      },
      "execution_count": 9,
      "outputs": [
        {
          "output_type": "stream",
          "name": "stdout",
          "text": [
            "Drive already mounted at /content/drive; to attempt to forcibly remount, call drive.mount(\"/content/drive\", force_remount=True).\n"
          ]
        }
      ]
    },
    {
      "cell_type": "code",
      "source": [
        "# Step: precompute content/style targets with VGG taps\n",
        "# 1) Load images at a manageable size\n",
        "# target_long_side = 512\n",
        "# C = load_image(CONTENT, target_long_side=target_long_side)  # was \"path/to/content.jpg\"\n",
        "# S = load_image(STYLE,   target_long_side=target_long_side)  # was \"path/to/style.jpg\"\n",
        "\n",
        "# pick your print size first: e.g., 16×20\" @ 240 PPI → long side = 4800 px (portrait)\n",
        "tile_size = 768\n",
        "CONTENT_LONG = 3600          # your phone photo, full-resolution target\n",
        "STYLE_LONG   = tile_size           # style image can stay small\n",
        "\n",
        "C = load_image(CONTENT, target_long_side=CONTENT_LONG)  # no 512 cap anymore\n",
        "S = load_image(STYLE,   target_long_side=STYLE_LONG)\n",
        "\n",
        "# 2) Frozen VGG feature extractor with your taps & normalization\n",
        "vgg = VGGFeatures()\n",
        "\n",
        "# 3) Forward once to get tapped activations\n",
        "with torch.no_grad():\n",
        "    c_feats = vgg(C)   # dict: {layer_name: activation}\n",
        "    s_feats = vgg(S)\n",
        "\n",
        "# 4) Build targets\n",
        "content_targets = {name: c_feats[name].detach() for name in CONTENT_LAYERS}\n",
        "\n",
        "def gram(feat):\n",
        "    # feat: (1, C, H, W) -> (C, C) average pairwise channel products\n",
        "    _, C, H, W = feat.shape\n",
        "    F = feat.view(C, H * W)         # (C, N)\n",
        "    return (F @ F.t()) / (H * W)    # (C, C)\n",
        "\n",
        "style_targets = {name: gram(s_feats[name]).detach() for name in STYLE_LAYERS}\n",
        "\n",
        "# 5) Sanity check\n",
        "print(\"Content taps:\")\n",
        "for k, v in content_targets.items():\n",
        "    print(f\"  {k}: {tuple(v.shape)}\")\n",
        "print(\"Style Gram targets:\")\n",
        "for k, G in style_targets.items():\n",
        "    print(f\"  {k}: {tuple(G.shape)}\")\n",
        "\n",
        "# content_targets and style_targets are now ready for the next step (optimize pixels X or train a stylizer f_phi)."
      ],
      "metadata": {
        "id": "RfoYcbM7BVBf",
        "outputId": "b8365360-42cb-4a02-8149-96b799e8b33c",
        "colab": {
          "base_uri": "https://localhost:8080/"
        }
      },
      "execution_count": 10,
      "outputs": [
        {
          "output_type": "stream",
          "name": "stderr",
          "text": [
            "/usr/local/lib/python3.12/dist-packages/torchvision/models/_utils.py:208: UserWarning: The parameter 'pretrained' is deprecated since 0.13 and may be removed in the future, please use 'weights' instead.\n",
            "  warnings.warn(\n",
            "/usr/local/lib/python3.12/dist-packages/torchvision/models/_utils.py:223: UserWarning: Arguments other than a weight enum or `None` for 'weights' are deprecated since 0.13 and may be removed in the future. The current behavior is equivalent to passing `weights=VGG19_Weights.IMAGENET1K_V1`. You can also use `weights=VGG19_Weights.DEFAULT` to get the most up-to-date weights.\n",
            "  warnings.warn(msg)\n"
          ]
        },
        {
          "output_type": "stream",
          "name": "stdout",
          "text": [
            "Content taps:\n",
            "  relu4_2: (1, 512, 450, 338)\n",
            "Style Gram targets:\n",
            "  relu1_1: (64, 64)\n",
            "  relu2_1: (128, 128)\n",
            "  relu3_1: (256, 256)\n",
            "  relu4_1: (512, 512)\n",
            "  relu5_1: (512, 512)\n"
          ]
        }
      ]
    },
    {
      "cell_type": "code",
      "source": [
        "# This function measures an image's smoothness by calculating the average difference between each pixel and its immediate neighbors,\n",
        "# both horizontally and vertically, and then adding those two average values together.\n",
        "def total_variation(x):\n",
        "    tv_h = (x[:, :, 1:, :] - x[:, :, :-1, :]).abs().mean()\n",
        "    tv_w = (x[:, :, :, 1:] - x[:, :, :, :-1]).abs().mean()\n",
        "    return tv_h + tv_w"
      ],
      "metadata": {
        "id": "Z_huSpyDXb8V"
      },
      "execution_count": 11,
      "outputs": []
    },
    {
      "cell_type": "code",
      "source": [
        "import gc\n",
        "\n",
        "# --- Re-introduce original weights and style layers ---\n",
        "steps, lr = 300, 0.02\n",
        "w_content, w_style, w_tv = 1.0, 10.0, 1e-5 # YOUR ORIGINAL WEIGHTS\n",
        "STYLE_LAYERS   = [\"relu1_1\",\"relu2_1\",\"relu3_1\",\"relu4_1\",\"relu5_1\"] # YOUR ORIGINAL LAYERS\n",
        "\n",
        "# --- Tiling Configuration ---\n",
        "tile_overlap = 96\n",
        "\n",
        "# --- Helper function for blending overlapping tiles ---\n",
        "def get_blending_mask(tile_shape, overlap):\n",
        "    mask = torch.ones(tile_shape, device=device)\n",
        "    for i in range(overlap):\n",
        "        fade = (i + 1) / (overlap + 1)\n",
        "        mask[:, :, i, :] *= fade; mask[:, :, -1-i, :] *= fade\n",
        "        mask[:, :, :, i] *= fade; mask[:, :, :, -1-i] *= fade\n",
        "    return mask\n",
        "\n",
        "# --- Main Tiling Optimization Logic ---\n",
        "\n",
        "# Initialize the final output image X as a copy of the content image\n",
        "X = C.clone().requires_grad_(False)\n",
        "final_image_numerator = torch.zeros_like(X)\n",
        "final_image_denominator = torch.zeros_like(X)\n",
        "\n",
        "h, w = C.shape[2], C.shape[3]\n",
        "stride = tile_size - tile_overlap\n",
        "\n",
        "# --- FIX: PRE-COMPUTE LOW-RESOLUTION CONTENT TARGETS (THE ORIGINAL METHOD) ---\n",
        "print(\"Pre-computing low-resolution content targets...\")\n",
        "CONTENT_TARGET_SIZE = 1024 # Use a larger-than-512 target for the 4800px image\n",
        "with torch.no_grad():\n",
        "    C_lowres = F.interpolate(C, size=CONTENT_TARGET_SIZE, mode='bilinear', align_corners=False)\n",
        "    content_targets_lowres_all = vgg(C_lowres)\n",
        "    # Detach them so they don't hold onto the graph\n",
        "    for k, v in content_targets_lowres_all.items():\n",
        "        content_targets_lowres_all[k] = v.detach()\n",
        "\n",
        "# Pre-compute global style targets as before\n",
        "with torch.no_grad():\n",
        "    s_feats = vgg(S)\n",
        "    style_targets = {name: gram(s_feats[name]).detach() for name in STYLE_LAYERS}\n",
        "# --- END OF FIX ---\n",
        "\n",
        "print(f\"Starting Tiled Optimization for a {w}x{h} image...\")\n",
        "print(f\"Using {tile_size}x{tile_size} tiles with {tile_overlap}px overlap.\")\n",
        "blend_mask = get_blending_mask((1, 3, tile_size, tile_size), tile_overlap)\n",
        "\n",
        "# This double for-loop systematically processes the large image in small, overlapping tiles...\n",
        "for i in range(0, h, stride):\n",
        "    for j in range(0, w, stride):\n",
        "        # Ensure tiles don't go out of bounds and align to edges\n",
        "        i_end = min(i + tile_size, h); i_start = i_end - tile_size\n",
        "        j_end = min(j + tile_size, w); j_start = j_end - tile_size\n",
        "\n",
        "        x_tile = X[:, :, i_start:i_end, j_start:j_end].clone().requires_grad_(True)\n",
        "\n",
        "        # --- FIX: CROP FROM THE PRE-COMPUTED LOW-RES TARGETS ---\n",
        "        content_targets_tile = {}\n",
        "        for layer in CONTENT_LAYERS:\n",
        "            # Calculate where this tile corresponds in the low-res feature map\n",
        "            target_map = content_targets_lowres_all[layer]\n",
        "            scale_h = target_map.shape[2] / h\n",
        "            scale_w = target_map.shape[3] / w\n",
        "\n",
        "            # Get the coordinates for the crop\n",
        "            t_i_start, t_i_end = int(i_start * scale_h), int(i_end * scale_h)\n",
        "            t_j_start, t_j_end = int(j_start * scale_w), int(j_end * scale_w)\n",
        "\n",
        "            # Crop the target feature map\n",
        "            content_targets_tile[layer] = target_map[:, :, t_i_start:t_i_end, t_j_start:t_j_end]\n",
        "        # --- END OF FIX ---\n",
        "\n",
        "        opt = torch.optim.Adam([x_tile], lr=lr)\n",
        "        scaler = torch.amp.GradScaler(\"cuda\")\n",
        "\n",
        "        print(f\"  Processing tile at ({i_start}, {j_start})...\")\n",
        "        for t in range(1, steps + 1):\n",
        "            opt.zero_grad()\n",
        "            with torch.amp.autocast(device_type=\"cuda\", dtype=torch.float16):\n",
        "                feats = vgg(x_tile)\n",
        "\n",
        "            # Resize features from the high-res tile to match the low-res target size\n",
        "            Lc = 0\n",
        "            for n in CONTENT_LAYERS:\n",
        "                target_shape = content_targets_tile[n].shape[2:]\n",
        "                feats_resized = F.interpolate(feats[n], size=target_shape, mode='bilinear', align_corners=False)\n",
        "                Lc += torch.nn.functional.mse_loss(feats_resized.float(), content_targets_tile[n])\n",
        "\n",
        "            Ls = sum(torch.nn.functional.mse_loss(gram(feats[n].float()), style_targets[n]) for n in STYLE_LAYERS)\n",
        "            Ltv = total_variation(x_tile)\n",
        "            loss = w_content*Lc + w_style*Ls + w_tv*Ltv\n",
        "\n",
        "            scaler.scale(loss).backward()\n",
        "            scaler.step(opt)\n",
        "            scaler.update()\n",
        "\n",
        "            with torch.no_grad():\n",
        "                x_tile.clamp_(0, 1)\n",
        "\n",
        "            if t % 150 == 0 or t == steps:\n",
        "                 print(f\"    [{t}/{steps}] Lc={Lc.item():.4f} Ls={Ls.item():.4f}\")\n",
        "\n",
        "        # Blend the optimized tile back into the final image\n",
        "        current_mask = blend_mask[:, :, :x_tile.shape[2], :x_tile.shape[3]]\n",
        "        final_image_numerator[:, :, i_start:i_end, j_start:j_end] += x_tile.detach() * current_mask\n",
        "        final_image_denominator[:, :, i_start:i_end, j_start:j_end] += current_mask\n",
        "\n",
        "        del x_tile, content_targets_tile, opt, scaler, feats, loss, Lc, Ls, Ltv\n",
        "        gc.collect()\n",
        "        torch.cuda.empty_cache()\n",
        "\n",
        "# Reconstruct the final image\n",
        "X_final = final_image_numerator / (final_image_denominator + 1e-8)\n",
        "X_final.clamp_(0, 1)\n",
        "\n",
        "save_image(X_final, \"/content/out_tiled.png\")\n",
        "print(\"Saved: /content/out_tiled.png\")"
      ],
      "metadata": {
        "colab": {
          "base_uri": "https://localhost:8080/"
        },
        "id": "a0Lw95FuW_De",
        "outputId": "5c957ae4-b153-4060-91a6-83b65434e3b6"
      },
      "execution_count": null,
      "outputs": [
        {
          "output_type": "stream",
          "name": "stdout",
          "text": [
            "Pre-computing low-resolution content targets...\n",
            "Starting Tiled Optimization for a 2711x3600 image...\n",
            "Using 768x768 tiles with 96px overlap.\n",
            "  Processing tile at (0, 0)...\n"
          ]
        }
      ]
    },
    {
      "cell_type": "markdown",
      "source": [
        "**Version to process image of a smaller size**"
      ],
      "metadata": {
        "id": "7mnSPw4pjjE6"
      }
    },
    {
      "cell_type": "code",
      "source": [
        "# Step: precompute content/style targets with VGG taps\n",
        "# 1) Load images at a manageable size\n",
        "target_long_side = 512\n",
        "C = load_image(CONTENT, target_long_side=target_long_side)  # was \"path/to/content.jpg\"\n",
        "S = load_image(STYLE,   target_long_side=target_long_side)  # was \"path/to/style.jpg\"\n",
        "\n",
        "# 2) Frozen VGG feature extractor with your taps & normalization\n",
        "vgg = VGGFeatures()\n",
        "\n",
        "# 3) Forward once to get tapped activations\n",
        "with torch.no_grad():\n",
        "    c_feats = vgg(C)   # dict: {layer_name: activation}\n",
        "    s_feats = vgg(S)\n",
        "\n",
        "# 4) Build targets\n",
        "content_targets = {name: c_feats[name].detach() for name in CONTENT_LAYERS}\n",
        "\n",
        "def gram(feat):\n",
        "    # feat: (1, C, H, W) -> (C, C) average pairwise channel products\n",
        "    _, C, H, W = feat.shape\n",
        "    F = feat.view(C, H * W)         # (C, N)\n",
        "    return (F @ F.t()) / (H * W)    # (C, C)\n",
        "\n",
        "style_targets = {name: gram(s_feats[name]).detach() for name in STYLE_LAYERS}\n",
        "\n",
        "# 5) Sanity check\n",
        "print(\"Content taps:\")\n",
        "for k, v in content_targets.items():\n",
        "    print(f\"  {k}: {tuple(v.shape)}\")\n",
        "print(\"Style Gram targets:\")\n",
        "for k, G in style_targets.items():\n",
        "    print(f\"  {k}: {tuple(G.shape)}\")\n",
        "\n",
        "# content_targets and style_targets are now ready for the next step (optimize pixels X or train a stylizer f_phi)."
      ],
      "metadata": {
        "id": "9sLcQUkOrS2V"
      },
      "execution_count": null,
      "outputs": []
    },
    {
      "cell_type": "code",
      "source": [
        "# Optimize X (stylized image) using your precomputed targets, then save it.\n",
        "steps, lr = 300, 0.02\n",
        "w_content, w_style, w_tv = 1.0, 10.0, 1e-5\n",
        "\n",
        "# Initialize the output image X as a trainable copy of the content image and\n",
        "# then creates an Adam optimizer that will directly modify the pixels of X to minimize the loss.\n",
        "X = C.clone().requires_grad_(True)\n",
        "opt = torch.optim.Adam([X], lr=lr)\n",
        "\n",
        "# 1. Initialize a GradScaler for Automatic Mixed Precision (AMP)\n",
        "# Automatic Mixed Precision (AMP) performs calculations using half-precision (float16) numbers to save memory.\n",
        "# We use it here because float16 tensors require half the GPU memory of standard float32, allowing us to process a very large image without an out-of-memory error.\n",
        "scaler = torch.amp.GradScaler(\"cuda\")\n",
        "\n",
        "print(\"Starting optimization with Automatic Mixed Precision...\")\n",
        "for t in range(1, steps + 1):\n",
        "    opt.zero_grad()\n",
        "\n",
        "    # 2. Wrap the forward pass and loss calculation in the autocast context manager\n",
        "    # This enables half-precision (float16) operations, saving memory.\n",
        "    with torch.amp.autocast(device_type=\"cuda\", dtype=torch.float16):\n",
        "        feats = vgg(X)\n",
        "\n",
        "        # content loss (keep layout/structure)\n",
        "        Lc = sum(torch.nn.functional.mse_loss(feats[n], content_targets[n]) for n in CONTENT_LAYERS)\n",
        "\n",
        "        # style loss (match Gram stats)\n",
        "        Ls = 0.0\n",
        "        for n in STYLE_LAYERS:\n",
        "            Ls += torch.nn.functional.mse_loss(gram(feats[n]), style_targets[n])\n",
        "\n",
        "        # smoothness\n",
        "        Ltv = total_variation(X)\n",
        "\n",
        "        loss = w_content*Lc + w_style*Ls + w_tv*Ltv\n",
        "\n",
        "    # 3. Use the scaler to perform backpropagation and optimizer step\n",
        "    # This scales the loss to prevent underflow of gradients from float16.\n",
        "    scaler.scale(loss).backward()\n",
        "    scaler.step(opt)\n",
        "    scaler.update()\n",
        "\n",
        "    with torch.no_grad():\n",
        "        X.clamp_(0, 1)\n",
        "\n",
        "    if t % 50 == 0 or t == steps:\n",
        "        print(f\"[{t}/{steps}] Lc={Lc.item():.4f}  Ls={Ls.item():.4f}  Ltv={Ltv.item():.6f}  Total={loss.item():.4f}\")\n",
        "\n",
        "save_image(X, \"/content/out.png\")\n",
        "print(\"Saved: /content/out.png\")"
      ],
      "metadata": {
        "colab": {
          "base_uri": "https://localhost:8080/",
          "height": 495
        },
        "id": "Gow8HMVbf-9H",
        "outputId": "f9a25163-0da8-435c-e1a8-0cc1b65ce7fd"
      },
      "execution_count": 11,
      "outputs": [
        {
          "output_type": "stream",
          "name": "stdout",
          "text": [
            "Starting optimization with Automatic Mixed Precision...\n"
          ]
        },
        {
          "output_type": "stream",
          "name": "stderr",
          "text": [
            "/tmp/ipython-input-1273663066.py:20: FutureWarning: `torch.cuda.amp.GradScaler(args...)` is deprecated. Please use `torch.amp.GradScaler('cuda', args...)` instead.\n",
            "  scaler = torch.cuda.amp.GradScaler()\n",
            "/tmp/ipython-input-1273663066.py:28: FutureWarning: `torch.cuda.amp.autocast(args...)` is deprecated. Please use `torch.amp.autocast('cuda', args...)` instead.\n",
            "  with torch.cuda.amp.autocast():\n"
          ]
        },
        {
          "output_type": "error",
          "ename": "OutOfMemoryError",
          "evalue": "CUDA out of memory. Tried to allocate 2.07 GiB. GPU 0 has a total capacity of 14.74 GiB of which 878.12 MiB is free. Process 6367 has 13.88 GiB memory in use. Of the allocated memory 13.69 GiB is allocated by PyTorch, and 63.61 MiB is reserved by PyTorch but unallocated. If reserved but unallocated memory is large try setting PYTORCH_CUDA_ALLOC_CONF=expandable_segments:True to avoid fragmentation.  See documentation for Memory Management  (https://pytorch.org/docs/stable/notes/cuda.html#environment-variables)",
          "traceback": [
            "\u001b[0;31m---------------------------------------------------------------------------\u001b[0m",
            "\u001b[0;31mOutOfMemoryError\u001b[0m                          Traceback (most recent call last)",
            "\u001b[0;32m/tmp/ipython-input-1273663066.py\u001b[0m in \u001b[0;36m<cell line: 0>\u001b[0;34m()\u001b[0m\n\u001b[1;32m     27\u001b[0m     \u001b[0;31m# This enables half-precision (float16) operations, saving memory.\u001b[0m\u001b[0;34m\u001b[0m\u001b[0;34m\u001b[0m\u001b[0m\n\u001b[1;32m     28\u001b[0m     \u001b[0;32mwith\u001b[0m \u001b[0mtorch\u001b[0m\u001b[0;34m.\u001b[0m\u001b[0mcuda\u001b[0m\u001b[0;34m.\u001b[0m\u001b[0mamp\u001b[0m\u001b[0;34m.\u001b[0m\u001b[0mautocast\u001b[0m\u001b[0;34m(\u001b[0m\u001b[0;34m)\u001b[0m\u001b[0;34m:\u001b[0m\u001b[0;34m\u001b[0m\u001b[0;34m\u001b[0m\u001b[0m\n\u001b[0;32m---> 29\u001b[0;31m         \u001b[0mfeats\u001b[0m \u001b[0;34m=\u001b[0m \u001b[0mvgg\u001b[0m\u001b[0;34m(\u001b[0m\u001b[0mX\u001b[0m\u001b[0;34m)\u001b[0m\u001b[0;34m\u001b[0m\u001b[0;34m\u001b[0m\u001b[0m\n\u001b[0m\u001b[1;32m     30\u001b[0m \u001b[0;34m\u001b[0m\u001b[0m\n\u001b[1;32m     31\u001b[0m         \u001b[0;31m# content loss (keep layout/structure)\u001b[0m\u001b[0;34m\u001b[0m\u001b[0;34m\u001b[0m\u001b[0m\n",
            "\u001b[0;32m/usr/local/lib/python3.12/dist-packages/torch/nn/modules/module.py\u001b[0m in \u001b[0;36m_wrapped_call_impl\u001b[0;34m(self, *args, **kwargs)\u001b[0m\n\u001b[1;32m   1771\u001b[0m             \u001b[0;32mreturn\u001b[0m \u001b[0mself\u001b[0m\u001b[0;34m.\u001b[0m\u001b[0m_compiled_call_impl\u001b[0m\u001b[0;34m(\u001b[0m\u001b[0;34m*\u001b[0m\u001b[0margs\u001b[0m\u001b[0;34m,\u001b[0m \u001b[0;34m**\u001b[0m\u001b[0mkwargs\u001b[0m\u001b[0;34m)\u001b[0m  \u001b[0;31m# type: ignore[misc]\u001b[0m\u001b[0;34m\u001b[0m\u001b[0;34m\u001b[0m\u001b[0m\n\u001b[1;32m   1772\u001b[0m         \u001b[0;32melse\u001b[0m\u001b[0;34m:\u001b[0m\u001b[0;34m\u001b[0m\u001b[0;34m\u001b[0m\u001b[0m\n\u001b[0;32m-> 1773\u001b[0;31m             \u001b[0;32mreturn\u001b[0m \u001b[0mself\u001b[0m\u001b[0;34m.\u001b[0m\u001b[0m_call_impl\u001b[0m\u001b[0;34m(\u001b[0m\u001b[0;34m*\u001b[0m\u001b[0margs\u001b[0m\u001b[0;34m,\u001b[0m \u001b[0;34m**\u001b[0m\u001b[0mkwargs\u001b[0m\u001b[0;34m)\u001b[0m\u001b[0;34m\u001b[0m\u001b[0;34m\u001b[0m\u001b[0m\n\u001b[0m\u001b[1;32m   1774\u001b[0m \u001b[0;34m\u001b[0m\u001b[0m\n\u001b[1;32m   1775\u001b[0m     \u001b[0;31m# torchrec tests the code consistency with the following code\u001b[0m\u001b[0;34m\u001b[0m\u001b[0;34m\u001b[0m\u001b[0m\n",
            "\u001b[0;32m/usr/local/lib/python3.12/dist-packages/torch/nn/modules/module.py\u001b[0m in \u001b[0;36m_call_impl\u001b[0;34m(self, *args, **kwargs)\u001b[0m\n\u001b[1;32m   1782\u001b[0m                 \u001b[0;32mor\u001b[0m \u001b[0m_global_backward_pre_hooks\u001b[0m \u001b[0;32mor\u001b[0m \u001b[0m_global_backward_hooks\u001b[0m\u001b[0;34m\u001b[0m\u001b[0;34m\u001b[0m\u001b[0m\n\u001b[1;32m   1783\u001b[0m                 or _global_forward_hooks or _global_forward_pre_hooks):\n\u001b[0;32m-> 1784\u001b[0;31m             \u001b[0;32mreturn\u001b[0m \u001b[0mforward_call\u001b[0m\u001b[0;34m(\u001b[0m\u001b[0;34m*\u001b[0m\u001b[0margs\u001b[0m\u001b[0;34m,\u001b[0m \u001b[0;34m**\u001b[0m\u001b[0mkwargs\u001b[0m\u001b[0;34m)\u001b[0m\u001b[0;34m\u001b[0m\u001b[0;34m\u001b[0m\u001b[0m\n\u001b[0m\u001b[1;32m   1785\u001b[0m \u001b[0;34m\u001b[0m\u001b[0m\n\u001b[1;32m   1786\u001b[0m         \u001b[0mresult\u001b[0m \u001b[0;34m=\u001b[0m \u001b[0;32mNone\u001b[0m\u001b[0;34m\u001b[0m\u001b[0;34m\u001b[0m\u001b[0m\n",
            "\u001b[0;32m/tmp/ipython-input-2815259028.py\u001b[0m in \u001b[0;36mforward\u001b[0;34m(self, x)\u001b[0m\n\u001b[1;32m     14\u001b[0m         \u001b[0mx\u001b[0m \u001b[0;34m=\u001b[0m \u001b[0mself\u001b[0m\u001b[0;34m.\u001b[0m\u001b[0mnorm\u001b[0m\u001b[0;34m(\u001b[0m\u001b[0mx\u001b[0m\u001b[0;34m)\u001b[0m\u001b[0;34m\u001b[0m\u001b[0;34m\u001b[0m\u001b[0m\n\u001b[1;32m     15\u001b[0m         \u001b[0;32mfor\u001b[0m \u001b[0mi\u001b[0m\u001b[0;34m,\u001b[0m \u001b[0mlayer\u001b[0m \u001b[0;32min\u001b[0m \u001b[0menumerate\u001b[0m\u001b[0;34m(\u001b[0m\u001b[0mself\u001b[0m\u001b[0;34m.\u001b[0m\u001b[0mvgg\u001b[0m\u001b[0;34m)\u001b[0m\u001b[0;34m:\u001b[0m\u001b[0;34m\u001b[0m\u001b[0;34m\u001b[0m\u001b[0m\n\u001b[0;32m---> 16\u001b[0;31m             \u001b[0mx\u001b[0m \u001b[0;34m=\u001b[0m \u001b[0mlayer\u001b[0m\u001b[0;34m(\u001b[0m\u001b[0mx\u001b[0m\u001b[0;34m)\u001b[0m\u001b[0;34m\u001b[0m\u001b[0;34m\u001b[0m\u001b[0m\n\u001b[0m\u001b[1;32m     17\u001b[0m             \u001b[0;32mif\u001b[0m \u001b[0mi\u001b[0m \u001b[0;32min\u001b[0m \u001b[0mVGG_LAYER_NAMES\u001b[0m\u001b[0;34m:\u001b[0m\u001b[0;34m\u001b[0m\u001b[0;34m\u001b[0m\u001b[0m\n\u001b[1;32m     18\u001b[0m                 \u001b[0mout\u001b[0m\u001b[0;34m[\u001b[0m\u001b[0mVGG_LAYER_NAMES\u001b[0m\u001b[0;34m[\u001b[0m\u001b[0mi\u001b[0m\u001b[0;34m]\u001b[0m\u001b[0;34m]\u001b[0m \u001b[0;34m=\u001b[0m \u001b[0mx\u001b[0m\u001b[0;34m\u001b[0m\u001b[0;34m\u001b[0m\u001b[0m\n",
            "\u001b[0;32m/usr/local/lib/python3.12/dist-packages/torch/nn/modules/module.py\u001b[0m in \u001b[0;36m_wrapped_call_impl\u001b[0;34m(self, *args, **kwargs)\u001b[0m\n\u001b[1;32m   1771\u001b[0m             \u001b[0;32mreturn\u001b[0m \u001b[0mself\u001b[0m\u001b[0;34m.\u001b[0m\u001b[0m_compiled_call_impl\u001b[0m\u001b[0;34m(\u001b[0m\u001b[0;34m*\u001b[0m\u001b[0margs\u001b[0m\u001b[0;34m,\u001b[0m \u001b[0;34m**\u001b[0m\u001b[0mkwargs\u001b[0m\u001b[0;34m)\u001b[0m  \u001b[0;31m# type: ignore[misc]\u001b[0m\u001b[0;34m\u001b[0m\u001b[0;34m\u001b[0m\u001b[0m\n\u001b[1;32m   1772\u001b[0m         \u001b[0;32melse\u001b[0m\u001b[0;34m:\u001b[0m\u001b[0;34m\u001b[0m\u001b[0;34m\u001b[0m\u001b[0m\n\u001b[0;32m-> 1773\u001b[0;31m             \u001b[0;32mreturn\u001b[0m \u001b[0mself\u001b[0m\u001b[0;34m.\u001b[0m\u001b[0m_call_impl\u001b[0m\u001b[0;34m(\u001b[0m\u001b[0;34m*\u001b[0m\u001b[0margs\u001b[0m\u001b[0;34m,\u001b[0m \u001b[0;34m**\u001b[0m\u001b[0mkwargs\u001b[0m\u001b[0;34m)\u001b[0m\u001b[0;34m\u001b[0m\u001b[0;34m\u001b[0m\u001b[0m\n\u001b[0m\u001b[1;32m   1774\u001b[0m \u001b[0;34m\u001b[0m\u001b[0m\n\u001b[1;32m   1775\u001b[0m     \u001b[0;31m# torchrec tests the code consistency with the following code\u001b[0m\u001b[0;34m\u001b[0m\u001b[0;34m\u001b[0m\u001b[0m\n",
            "\u001b[0;32m/usr/local/lib/python3.12/dist-packages/torch/nn/modules/module.py\u001b[0m in \u001b[0;36m_call_impl\u001b[0;34m(self, *args, **kwargs)\u001b[0m\n\u001b[1;32m   1782\u001b[0m                 \u001b[0;32mor\u001b[0m \u001b[0m_global_backward_pre_hooks\u001b[0m \u001b[0;32mor\u001b[0m \u001b[0m_global_backward_hooks\u001b[0m\u001b[0;34m\u001b[0m\u001b[0;34m\u001b[0m\u001b[0m\n\u001b[1;32m   1783\u001b[0m                 or _global_forward_hooks or _global_forward_pre_hooks):\n\u001b[0;32m-> 1784\u001b[0;31m             \u001b[0;32mreturn\u001b[0m \u001b[0mforward_call\u001b[0m\u001b[0;34m(\u001b[0m\u001b[0;34m*\u001b[0m\u001b[0margs\u001b[0m\u001b[0;34m,\u001b[0m \u001b[0;34m**\u001b[0m\u001b[0mkwargs\u001b[0m\u001b[0;34m)\u001b[0m\u001b[0;34m\u001b[0m\u001b[0;34m\u001b[0m\u001b[0m\n\u001b[0m\u001b[1;32m   1785\u001b[0m \u001b[0;34m\u001b[0m\u001b[0m\n\u001b[1;32m   1786\u001b[0m         \u001b[0mresult\u001b[0m \u001b[0;34m=\u001b[0m \u001b[0;32mNone\u001b[0m\u001b[0;34m\u001b[0m\u001b[0;34m\u001b[0m\u001b[0m\n",
            "\u001b[0;32m/usr/local/lib/python3.12/dist-packages/torch/nn/modules/pooling.py\u001b[0m in \u001b[0;36mforward\u001b[0;34m(self, input)\u001b[0m\n\u001b[1;32m    222\u001b[0m \u001b[0;34m\u001b[0m\u001b[0m\n\u001b[1;32m    223\u001b[0m     \u001b[0;32mdef\u001b[0m \u001b[0mforward\u001b[0m\u001b[0;34m(\u001b[0m\u001b[0mself\u001b[0m\u001b[0;34m,\u001b[0m \u001b[0minput\u001b[0m\u001b[0;34m:\u001b[0m \u001b[0mTensor\u001b[0m\u001b[0;34m)\u001b[0m\u001b[0;34m:\u001b[0m\u001b[0;34m\u001b[0m\u001b[0;34m\u001b[0m\u001b[0m\n\u001b[0;32m--> 224\u001b[0;31m         return F.max_pool2d(\n\u001b[0m\u001b[1;32m    225\u001b[0m             \u001b[0minput\u001b[0m\u001b[0;34m,\u001b[0m\u001b[0;34m\u001b[0m\u001b[0;34m\u001b[0m\u001b[0m\n\u001b[1;32m    226\u001b[0m             \u001b[0mself\u001b[0m\u001b[0;34m.\u001b[0m\u001b[0mkernel_size\u001b[0m\u001b[0;34m,\u001b[0m\u001b[0;34m\u001b[0m\u001b[0;34m\u001b[0m\u001b[0m\n",
            "\u001b[0;32m/usr/local/lib/python3.12/dist-packages/torch/_jit_internal.py\u001b[0m in \u001b[0;36mfn\u001b[0;34m(*args, **kwargs)\u001b[0m\n\u001b[1;32m    625\u001b[0m             \u001b[0;32mreturn\u001b[0m \u001b[0mif_true\u001b[0m\u001b[0;34m(\u001b[0m\u001b[0;34m*\u001b[0m\u001b[0margs\u001b[0m\u001b[0;34m,\u001b[0m \u001b[0;34m**\u001b[0m\u001b[0mkwargs\u001b[0m\u001b[0;34m)\u001b[0m\u001b[0;34m\u001b[0m\u001b[0;34m\u001b[0m\u001b[0m\n\u001b[1;32m    626\u001b[0m         \u001b[0;32melse\u001b[0m\u001b[0;34m:\u001b[0m\u001b[0;34m\u001b[0m\u001b[0;34m\u001b[0m\u001b[0m\n\u001b[0;32m--> 627\u001b[0;31m             \u001b[0;32mreturn\u001b[0m \u001b[0mif_false\u001b[0m\u001b[0;34m(\u001b[0m\u001b[0;34m*\u001b[0m\u001b[0margs\u001b[0m\u001b[0;34m,\u001b[0m \u001b[0;34m**\u001b[0m\u001b[0mkwargs\u001b[0m\u001b[0;34m)\u001b[0m\u001b[0;34m\u001b[0m\u001b[0;34m\u001b[0m\u001b[0m\n\u001b[0m\u001b[1;32m    628\u001b[0m \u001b[0;34m\u001b[0m\u001b[0m\n\u001b[1;32m    629\u001b[0m     \u001b[0;32mif\u001b[0m \u001b[0mif_true\u001b[0m\u001b[0;34m.\u001b[0m\u001b[0m__doc__\u001b[0m \u001b[0;32mis\u001b[0m \u001b[0;32mNone\u001b[0m \u001b[0;32mand\u001b[0m \u001b[0mif_false\u001b[0m\u001b[0;34m.\u001b[0m\u001b[0m__doc__\u001b[0m \u001b[0;32mis\u001b[0m \u001b[0;32mnot\u001b[0m \u001b[0;32mNone\u001b[0m\u001b[0;34m:\u001b[0m\u001b[0;34m\u001b[0m\u001b[0;34m\u001b[0m\u001b[0m\n",
            "\u001b[0;32m/usr/local/lib/python3.12/dist-packages/torch/nn/functional.py\u001b[0m in \u001b[0;36m_max_pool2d\u001b[0;34m(input, kernel_size, stride, padding, dilation, ceil_mode, return_indices)\u001b[0m\n\u001b[1;32m    825\u001b[0m     \u001b[0;32mif\u001b[0m \u001b[0mstride\u001b[0m \u001b[0;32mis\u001b[0m \u001b[0;32mNone\u001b[0m\u001b[0;34m:\u001b[0m\u001b[0;34m\u001b[0m\u001b[0;34m\u001b[0m\u001b[0m\n\u001b[1;32m    826\u001b[0m         \u001b[0mstride\u001b[0m \u001b[0;34m=\u001b[0m \u001b[0mtorch\u001b[0m\u001b[0;34m.\u001b[0m\u001b[0mjit\u001b[0m\u001b[0;34m.\u001b[0m\u001b[0mannotate\u001b[0m\u001b[0;34m(\u001b[0m\u001b[0mlist\u001b[0m\u001b[0;34m[\u001b[0m\u001b[0mint\u001b[0m\u001b[0;34m]\u001b[0m\u001b[0;34m,\u001b[0m \u001b[0;34m[\u001b[0m\u001b[0;34m]\u001b[0m\u001b[0;34m)\u001b[0m\u001b[0;34m\u001b[0m\u001b[0;34m\u001b[0m\u001b[0m\n\u001b[0;32m--> 827\u001b[0;31m     \u001b[0;32mreturn\u001b[0m \u001b[0mtorch\u001b[0m\u001b[0;34m.\u001b[0m\u001b[0mmax_pool2d\u001b[0m\u001b[0;34m(\u001b[0m\u001b[0minput\u001b[0m\u001b[0;34m,\u001b[0m \u001b[0mkernel_size\u001b[0m\u001b[0;34m,\u001b[0m \u001b[0mstride\u001b[0m\u001b[0;34m,\u001b[0m \u001b[0mpadding\u001b[0m\u001b[0;34m,\u001b[0m \u001b[0mdilation\u001b[0m\u001b[0;34m,\u001b[0m \u001b[0mceil_mode\u001b[0m\u001b[0;34m)\u001b[0m\u001b[0;34m\u001b[0m\u001b[0;34m\u001b[0m\u001b[0m\n\u001b[0m\u001b[1;32m    828\u001b[0m \u001b[0;34m\u001b[0m\u001b[0m\n\u001b[1;32m    829\u001b[0m \u001b[0;34m\u001b[0m\u001b[0m\n",
            "\u001b[0;31mOutOfMemoryError\u001b[0m: CUDA out of memory. Tried to allocate 2.07 GiB. GPU 0 has a total capacity of 14.74 GiB of which 878.12 MiB is free. Process 6367 has 13.88 GiB memory in use. Of the allocated memory 13.69 GiB is allocated by PyTorch, and 63.61 MiB is reserved by PyTorch but unallocated. If reserved but unallocated memory is large try setting PYTORCH_CUDA_ALLOC_CONF=expandable_segments:True to avoid fragmentation.  See documentation for Memory Management  (https://pytorch.org/docs/stable/notes/cuda.html#environment-variables)"
          ]
        }
      ]
    },
    {
      "cell_type": "code",
      "source": [
        "from PIL import Image\n",
        "# display(Image.open(\"/content/out_tiled.png\"))"
      ],
      "metadata": {
        "id": "BeIK6gwogldx"
      },
      "execution_count": 17,
      "outputs": []
    },
    {
      "cell_type": "markdown",
      "source": [
        "### Painterly stylization\n",
        "\n",
        "**Goal**  \n",
        "Create a stylized image that looks more like a painting: keep the overall composition while reducing fine photo detail and “sand” noise.\n",
        "\n",
        "---\n",
        "\n",
        "#### Hyperparameters\n",
        "- `steps = 500` — number of optimization updates.\n",
        "- `w_content = 1.0` — weight for **content loss** (keeps global structure).\n",
        "- `w_style = 12.0` — weight for **style loss** (drives brush/texture/color).\n",
        "- `w_tv = 5e-5` — weight for **total variation loss** (adds smoothness; suppresses speckle).\n",
        "\n",
        "*Effect:* increase `w_style` → stronger style; increase `w_content` → more structure; increase `w_tv` → smoother, less noisy.\n",
        "\n",
        "---\n",
        "\n",
        "#### Style layers (which “style” features to match)\n",
        "- We emphasize **mid/deep taps** (`relu3_1`, `relu4_1`) and down-weight **shallow taps** (`relu1_1`, `relu2_1`, `relu5_1`).\n",
        "- *Why:* shallow layers tend to produce very fine, high-frequency textures; mid/deep taps encourage broader, painterly patterns.\n",
        "\n",
        "---\n",
        "\n",
        "#### Losses computed each step\n",
        "- **Content loss (`Lc`)**: MSE between VGG features of the current image `X` and the content image at `CONTENT_LAYERS` → preserves overall arrangement.\n",
        "- **Style loss (`Ls`)**: MSE between **Gram matrices** of `X` and the style image at `STYLE_LAYERS`, scaled by the per-layer weights → transfers multi-scale texture/brush/color statistics.\n",
        "- **Total variation (`Ltv`)**: encourages neighboring pixels to be similar → reduces pixel-level noise.\n",
        "\n",
        "---\n",
        "\n",
        "#### Gaussian blur helper (`gauss_blur`)\n",
        "- Builds a 1D Gaussian kernel (size `k`, std `sigma`), normalizes it, and applies **two separable depthwise convolutions** (vertical then horizontal) per RGB channel.\n",
        "- *Why used here:* as a light **low-pass filter** to tame high-frequency artifacts without destroying larger shapes.\n",
        "\n",
        "---\n",
        "\n",
        "#### Initialization\n",
        "- Start `X` from a **mildly blurred** version of the content image plus **tiny noise**.\n",
        "- *Why:* retains composition but softens sharp photo edges, making it easier to form paint-like regions rather than copying photographic detail.\n",
        "\n",
        "---\n",
        "\n",
        "#### Optimization loop (what happens each iteration)\n",
        "1. Run `X` through **frozen VGG** to get tapped features.\n",
        "2. Compute `Lc`, `Ls` (with the style layer weights), and `Ltv`.\n",
        "3. Combine them into the total loss and use **Adam to update the pixels of `X`**.\n",
        "4. Clamp `X` to `[0,1]` to keep valid image values.\n",
        "5. Every 200 steps, apply a **very light blur** to reduce accumulating high-frequency noise.\n",
        "\n",
        "---\n",
        "\n",
        "#### Output\n",
        "- Saves the final image to `/content/out_painterly.png`.\n",
        "\n",
        "---\n",
        "\n",
        "#### Quick tuning\n",
        "- **Sharper / more structure:** slightly increase `w_content`, reduce or remove the periodic blur, or lower `w_tv`.\n",
        "- **Looser / more painterly:** decrease `w_content`, increase `w_style`, or reduce shallow style layer weights further.\n",
        "- **Less noise:** increase `w_tv` a bit or make the periodic blur slightly more frequent/stronger."
      ],
      "metadata": {
        "id": "2wzrO88hsIay"
      }
    },
    {
      "cell_type": "markdown",
      "source": [
        "### Why there’s a Gaussian blur\n",
        "\n",
        "**Purpose (what it’s for)**  \n",
        "Lightly blur the working image `X` to suppress **tiny, high-frequency details** so optimization prefers **larger, paint-like regions** instead of gritty photo texture.\n",
        "\n",
        "**What a kernel is (and why it’s odd-sized)**  \n",
        "A *kernel* is a small sliding window of weights that averages each pixel with its neighbors.  \n",
        "Odd sizes (3,5,7,…) give a single **center** that aligns with the pixel being updated.\n",
        "\n",
        "**Gaussian blur = bell-curve averaging**  \n",
        "- **Offsets `i`** = positions **relative to the pixel being updated**. If the kernel size is `k` (odd), let `r = (k-1)/2`. Then `i ∈ {-r, …, +r}` are the neighbors left/right (for a row) or up/down (for a column) of the **current pixel**.\n",
        "- **Weights (bell curve):** for each offset `i`, compute an unnormalized weight  \n",
        "  `w_tilde[i] = exp( - i^2 / (2 * sigma^2) )`.  \n",
        "  Then **normalize** so they sum to 1 (keeps brightness):  \n",
        "  `Z = sum_{j=-r}^{r} w_tilde[j]` and `w[i] = w_tilde[i] / Z`.\n",
        "- **Applied to each pixel:** to blur one row at position `(m, n)` you replace the center value with a **weighted average of its neighbors**:  \n",
        "  `X_hat[m, n] = sum_{i=-r}^{r} w[i] * X[m, n - i]`  (horizontal pass)  \n",
        "  and similarly for a **vertical pass** over columns:  \n",
        "  `Y[m, n] = sum_{i=-r}^{r} w[i] * X_hat[m - i, n]`.  \n",
        "  (Two 1-D passes = full 2-D Gaussian blur, faster and equivalent.)\n",
        "- **Intuition:** closer neighbors (small |i|) get larger weights → the pixel becomes a smooth average of its neighborhood, removing tiny high-frequency detail while preserving larger shapes.\n",
        "\n",
        "**From 1-D to 2-D (separable, fast, same result)**  \n",
        "2-D Gaussian kernel is the outer product: `K[i,j] = w[i] * w[j]`.  \n",
        "Convolution can be done as two 1-D passes:  \n",
        "• Vertical: `X_hat[m,n] = sum_{i=-r}^{r} w[i] * X[m-i, n]`  \n",
        "• Horizontal: `Y[m,n] = sum_{j=-r}^{r} w[j] * X_hat[m, n-j]`\n",
        "\n",
        "**How the function `gauss_blur` implements this**  \n",
        "- Builds the 1-D Gaussian weights from `k` (kernel size) and `sigma` (spread) and **normalizes** them.  \n",
        "- Applies **two depthwise convs**: vertical (`k×1`) then horizontal (`1×k`). *Depthwise* means each RGB channel is blurred **independently** (no color mixing).  \n",
        "- Uses padding so the output stays the same size.\n",
        "\n",
        "**How to tune (effect on sharpness)**  \n",
        "- **Sharper (less blur):** smaller `sigma` (e.g., 0.6–1.0), smaller `k` (3–5), or call the blur less often.  \n",
        "- **Softer (more blur):** larger `sigma`/`k`, or apply it more frequently.\n",
        "\n",
        "**Bottom line**  \n",
        "The Gaussian blur is a controlled low-pass filter: it dampens fine noise while keeping overall shapes, helping the style loss form coherent, painterly regions."
      ],
      "metadata": {
        "id": "FR_Luuyt69F4"
      }
    },
    {
      "cell_type": "code",
      "source": [
        "# Painterly result: keep forms, suppress photo detail & high-frequency texture\n",
        "import torch\n",
        "import torch.nn.functional as F\n",
        "\n",
        "# --- weights\n",
        "steps = 500\n",
        "w_content = 1.0\n",
        "w_style  = 12.0\n",
        "w_tv     = 5e-5\n",
        "\n",
        "# --- emphasize mid/deep style layers (coarser patterns), de-emphasize shallow (fine noise)\n",
        "style_layer_weights = {\n",
        "    \"relu1_1\": 0.1,\n",
        "    \"relu2_1\": 0.2,\n",
        "    \"relu3_1\": 1.2,\n",
        "    \"relu4_1\": 1.0,\n",
        "    \"relu5_1\": 0.4,\n",
        "}\n",
        "\n",
        "def total_variation(x):\n",
        "    tv_h = (x[:, :, 1:, :] - x[:, :, :-1, :]).abs().mean()\n",
        "    tv_w = (x[:, :, :, 1:] - x[:, :, :, :-1]).abs().mean()\n",
        "    return tv_h + tv_w\n",
        "\n",
        "def gauss_blur(x, k=7, sigma=2.0):\n",
        "    # cheap separable Gaussian using conv; expects (1,3,H,W)\n",
        "    import math\n",
        "    radius = k // 2\n",
        "    xs = torch.arange(-radius, radius+1, device=x.device, dtype=x.dtype)\n",
        "    w = torch.exp(-0.5 * (xs / sigma) ** 2)\n",
        "    w = (w / w.sum()).view(1, 1, -1)                # (1,1,k)\n",
        "    # depthwise conv along H then W\n",
        "    x = F.conv2d(x, w.unsqueeze(3).expand(3,1,-1,1), padding=(radius,0), groups=3)\n",
        "    x = F.conv2d(x, w.unsqueeze(2).expand(3,1,1,-1), padding=(0,radius), groups=3)\n",
        "    return x\n",
        "\n",
        "# --- init: blurred content + tiny noise (keeps composition, kills crisp detail)\n",
        "with torch.no_grad():\n",
        "  X0 = gauss_blur(C, k=5, sigma=1.0)     # milder blur\n",
        "  X0 = (X0 + 0.005 * torch.randn_like(X0)).clamp(0, 1)  # less noise\n",
        "X = X0.clone().requires_grad_(True)\n",
        "\n",
        "opt = torch.optim.Adam([X], lr=0.02)\n",
        "\n",
        "for t in range(1, steps + 1):\n",
        "    opt.zero_grad()\n",
        "\n",
        "    feats = vgg(X)\n",
        "\n",
        "    # content loss (layout)\n",
        "    Lc = sum(F.mse_loss(feats[n], content_targets[n]) for n in CONTENT_LAYERS)\n",
        "\n",
        "    # style loss (multi-scale, weighted)\n",
        "    Ls = 0.0\n",
        "    for n in STYLE_LAYERS:\n",
        "        Ls = Ls + style_layer_weights[n] * F.mse_loss(gram(feats[n]), style_targets[n])\n",
        "\n",
        "    # smoothness\n",
        "    Ltv = total_variation(X)\n",
        "\n",
        "    loss = w_content*Lc + w_style*Ls + w_tv*Ltv\n",
        "    loss.backward()\n",
        "    opt.step()\n",
        "\n",
        "    with torch.no_grad():\n",
        "        # occasional light blur suppresses new high-freq noise while preserving forms\n",
        "        if t % 200 == 0:\n",
        "            X.copy_(gauss_blur(X, k=3, sigma=0.8).clamp(0,1))\n",
        "        X.clamp_(0, 1)\n",
        "\n",
        "    if t % 50 == 0 or t == steps:\n",
        "        print(f\"[{t}/{steps}] Lc={Lc.item():.3f}  Ls={Ls.item():.3f}  Ltv={Ltv.item():.6f}  Total={loss.item():.3f}\")\n",
        "\n",
        "save_image(X, \"/content/out_painterly.png\")\n",
        "print(\"Saved: /content/out_painterly.png\")"
      ],
      "metadata": {
        "id": "FnUyen9ksM5v"
      },
      "execution_count": null,
      "outputs": []
    },
    {
      "cell_type": "code",
      "source": [
        "display(Image.open(\"/content/out_painterly.png\"))"
      ],
      "metadata": {
        "id": "Cjc0LFXdvZEh"
      },
      "execution_count": null,
      "outputs": []
    },
    {
      "cell_type": "markdown",
      "source": [
        "<h3><font color=\"#0b3d91\">Smoothen out the image, add brush strokes</font></h3>"
      ],
      "metadata": {
        "id": "8LPITF-1iEUL"
      }
    },
    {
      "cell_type": "code",
      "source": [
        "# pip install -q opencv-contrib-python\n",
        "import cv2, numpy as np\n",
        "\n",
        "def oil_brush_balanced(\n",
        "    in_path, out_path,\n",
        "    brush_size=4, dyn_ratio=70, alpha=0.42,\n",
        "    usm_radius=1.1, usm_amount=1.7,\n",
        "    gamma=1.0,                  # 1.0 = no darkening; <1 brightens, >1 darkens\n",
        "    pre_smooth=False,           # False keeps detail; True = bilateral pre-smooth\n",
        "    add_edges=False, edge_weight=0.14, edge_low=90, edge_high=200\n",
        "):\n",
        "    img = cv2.imread(in_path, cv2.IMREAD_COLOR)\n",
        "    if img is None: raise FileNotFoundError(in_path)\n",
        "\n",
        "    base = cv2.bilateralFilter(img, 7, 30, 7) if pre_smooth else img\n",
        "\n",
        "    # Oil-paint strokes\n",
        "    oil = cv2.xphoto.oilPainting(base, brush_size, dyn_ratio)\n",
        "\n",
        "    # Work in Lab (keep original a/b)\n",
        "    lab_src = cv2.cvtColor(img,  cv2.COLOR_BGR2LAB)\n",
        "    lab_oil = cv2.cvtColor(oil,  cv2.COLOR_BGR2LAB)\n",
        "    Ls = lab_src[...,0].astype(np.float32)\n",
        "    Lo = lab_oil[...,0].astype(np.float32)\n",
        "\n",
        "    # Sharpen painted luminance\n",
        "    blur = cv2.GaussianBlur(Lo, (0,0), usm_radius)\n",
        "    Lo_sharp = (1.0 + usm_amount) * Lo - usm_amount * blur\n",
        "\n",
        "    # Blend THEN tone-match to the original (prevents global darkening)\n",
        "    Lmix = cv2.addWeighted(Lo_sharp, float(alpha), Ls, float(1.0 - alpha), 0.0, dtype=cv2.CV_32F)\n",
        "\n",
        "    # --- replace the mean/std match with histogram matching ---\n",
        "    def _hist_match_to_ref(src_f32, ref_f32):\n",
        "        # map src luminance to have the same histogram as ref (both in 0..255)\n",
        "        src_u8 = np.clip(src_f32, 0, 255).astype(np.uint8)\n",
        "        ref_u8 = np.clip(ref_f32, 0, 255).astype(np.uint8)\n",
        "\n",
        "        # CDFs\n",
        "        src_hist = cv2.calcHist([src_u8], [0], None, [256], [0,256]).ravel()\n",
        "        ref_hist = cv2.calcHist([ref_u8], [0], None, [256], [0,256]).ravel()\n",
        "        src_cdf  = np.cumsum(src_hist) / (src_hist.sum() + 1e-6)\n",
        "        ref_cdf  = np.cumsum(ref_hist) / (ref_hist.sum() + 1e-6)\n",
        "\n",
        "        # For each src intensity, find ref intensity with closest CDF value\n",
        "        mapping = np.interp(src_cdf, ref_cdf, np.arange(256))\n",
        "        return mapping[src_u8].astype(np.float32)\n",
        "\n",
        "    # After you compute Lmix (the blended L), do:\n",
        "    Lmix = _hist_match_to_ref(Lmix, Ls)  # <-- replaces the mean/std normalization\n",
        "\n",
        "    # Optional: darker edge reinforcement (subtle)\n",
        "    if add_edges:\n",
        "        e = cv2.Canny(cv2.cvtColor(img, cv2.COLOR_BGR2GRAY), edge_low, edge_high).astype(np.float32)\n",
        "        e = cv2.GaussianBlur(e, (0,0), 0.8)\n",
        "        Lmix = np.clip(Lmix - edge_weight * e, 0, 255)\n",
        "\n",
        "    # Final gamma (1.0 = neutral)\n",
        "    Lmix = np.clip(Lmix/255.0, 0, 1)\n",
        "    Lmix = cv2.pow(Lmix, gamma) * 255.0\n",
        "    Lmix_u8 = np.clip(Lmix, 0, 255).astype(np.uint8)\n",
        "\n",
        "    lab_out = lab_src.copy()\n",
        "    lab_out[...,0] = Lmix_u8\n",
        "    out = cv2.cvtColor(lab_out, cv2.COLOR_LAB2BGR)\n",
        "    cv2.imwrite(out_path, out)\n",
        "    print(\"Saved:\", out_path)\n",
        "\n",
        "in_path  = \"/content/out.png\"\n",
        "out_path = \"/content/out_oil_natural.png\"\n",
        "\n",
        "oil_brush_balanced(\n",
        "    in_path, out_path,\n",
        "    brush_size=4, dyn_ratio=70, alpha=0.40,\n",
        "    usm_radius=1.1, usm_amount=1.8,\n",
        "    gamma=1.0,            # neutral; brightness controlled by hist match\n",
        "    pre_smooth=False,     # keep detail\n",
        "    add_edges=False\n",
        ")\n",
        "\n",
        "display(Image.open(out_path))"
      ],
      "metadata": {
        "id": "OqKYDO9Ias8Y"
      },
      "execution_count": null,
      "outputs": []
    },
    {
      "cell_type": "code",
      "source": [
        "im = Image.open(out_path)\n",
        "w, h = im.size\n",
        "print(f\"Pixels: {w} × {h}\")\n",
        "\n",
        "for ppi in (300, 240, 200, 150):\n",
        "    print(f\"Max print at {ppi} PPI: {w/ppi:.2f} in × {h/ppi:.2f} in\")"
      ],
      "metadata": {
        "id": "sfot0NxDi9QK"
      },
      "execution_count": null,
      "outputs": []
    }
  ]
}